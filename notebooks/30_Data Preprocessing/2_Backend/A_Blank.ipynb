{
 "cells": [
  {
   "cell_type": "markdown",
   "id": "827542c3",
   "metadata": {
    "papermill": {
     "duration": 0.005085,
     "end_time": "2024-07-06T19:39:11.373511",
     "exception": false,
     "start_time": "2024-07-06T19:39:11.368426",
     "status": "completed"
    },
    "tags": []
   },
   "source": [
    "# Portable models to calculate predictions anywhere"
   ]
  },
  {
   "cell_type": "markdown",
   "id": "2789431f",
   "metadata": {
    "papermill": {
     "duration": 0.004089,
     "end_time": "2024-07-06T19:39:11.382540",
     "exception": false,
     "start_time": "2024-07-06T19:39:11.378451",
     "status": "completed"
    },
    "tags": []
   },
   "source": [
    "## Input data to predict"
   ]
  },
  {
   "cell_type": "code",
   "execution_count": null,
   "id": "c815c7b4",
   "metadata": {
    "execution": {
     "iopub.execute_input": "2024-07-06T19:39:11.398430Z",
     "iopub.status.busy": "2024-07-06T19:39:11.398054Z",
     "iopub.status.idle": "2024-07-06T19:39:11.411327Z",
     "shell.execute_reply": "2024-07-06T19:39:11.408474Z"
    },
    "papermill": {
     "duration": 0.02835,
     "end_time": "2024-07-06T19:39:11.415096",
     "exception": false,
     "start_time": "2024-07-06T19:39:11.386746",
     "status": "completed"
    },
    "tags": []
   },
   "outputs": [],
   "source": []
  },
  {
   "cell_type": "code",
   "execution_count": null,
   "id": "032eda6b",
   "metadata": {
    "execution": {
     "iopub.execute_input": "2024-07-06T19:39:11.426620Z",
     "iopub.status.busy": "2024-07-06T19:39:11.424468Z",
     "iopub.status.idle": "2024-07-06T19:39:12.310904Z",
     "shell.execute_reply": "2024-07-06T19:39:12.310154Z"
    },
    "papermill": {
     "duration": 0.894053,
     "end_time": "2024-07-06T19:39:12.313028",
     "exception": false,
     "start_time": "2024-07-06T19:39:11.418975",
     "status": "completed"
    },
    "tags": []
   },
   "outputs": [
    {
     "data": {
      "text/html": [
       "<div>\n",
       "<style scoped>\n",
       "    .dataframe tbody tr th:only-of-type {\n",
       "        vertical-align: middle;\n",
       "    }\n",
       "\n",
       "    .dataframe tbody tr th {\n",
       "        vertical-align: top;\n",
       "    }\n",
       "\n",
       "    .dataframe thead th {\n",
       "        text-align: right;\n",
       "    }\n",
       "</style>\n",
       "<table border=\"1\" class=\"dataframe\">\n",
       "  <thead>\n",
       "    <tr style=\"text-align: right;\">\n",
       "      <th></th>\n",
       "      <th>Industry</th>\n",
       "      <th>Ethnicity</th>\n",
       "      <th>Gender</th>\n",
       "      <th>Age</th>\n",
       "      <th>CivilStatus</th>\n",
       "      <th>YearsEmployed</th>\n",
       "      <th>Income</th>\n",
       "    </tr>\n",
       "  </thead>\n",
       "  <tbody>\n",
       "    <tr>\n",
       "      <th>Alice</th>\n",
       "      <td>Materials</td>\n",
       "      <td>White</td>\n",
       "      <td>Female</td>\n",
       "      <td>18</td>\n",
       "      <td>Married</td>\n",
       "      <td>10</td>\n",
       "      <td>540</td>\n",
       "    </tr>\n",
       "  </tbody>\n",
       "</table>\n",
       "</div>"
      ],
      "text/plain": [
       "        Industry Ethnicity  Gender  Age CivilStatus  YearsEmployed  Income\n",
       "Alice  Materials     White  Female   18     Married             10     540"
      ]
     },
     "execution_count": null,
     "metadata": {},
     "output_type": "execute_result"
    }
   ],
   "source": []
  },
  {
   "cell_type": "markdown",
   "id": "6e158b81",
   "metadata": {
    "papermill": {
     "duration": 0.003314,
     "end_time": "2024-07-06T19:39:12.320063",
     "exception": false,
     "start_time": "2024-07-06T19:39:12.316749",
     "status": "completed"
    },
    "tags": []
   },
   "source": [
    "## Load model from previous lesson"
   ]
  },
  {
   "cell_type": "code",
   "execution_count": null,
   "id": "caae07e1",
   "metadata": {
    "execution": {
     "iopub.execute_input": "2024-07-06T19:39:12.327698Z",
     "iopub.status.busy": "2024-07-06T19:39:12.327271Z",
     "iopub.status.idle": "2024-07-06T19:39:13.336313Z",
     "shell.execute_reply": "2024-07-06T19:39:13.335383Z"
    },
    "papermill": {
     "duration": 1.015628,
     "end_time": "2024-07-06T19:39:13.338542",
     "exception": false,
     "start_time": "2024-07-06T19:39:12.322914",
     "status": "completed"
    },
    "tags": []
   },
   "outputs": [],
   "source": []
  },
  {
   "cell_type": "markdown",
   "id": "188b5fa7",
   "metadata": {
    "papermill": {
     "duration": 0.002532,
     "end_time": "2024-07-06T19:39:13.343927",
     "exception": false,
     "start_time": "2024-07-06T19:39:13.341395",
     "status": "completed"
    },
    "tags": []
   },
   "source": [
    "## Calculate the prediction"
   ]
  },
  {
   "cell_type": "code",
   "execution_count": null,
   "id": "300a9163",
   "metadata": {
    "execution": {
     "iopub.execute_input": "2024-07-06T19:39:13.350261Z",
     "iopub.status.busy": "2024-07-06T19:39:13.349871Z",
     "iopub.status.idle": "2024-07-06T19:39:13.363055Z",
     "shell.execute_reply": "2024-07-06T19:39:13.362470Z"
    },
    "papermill": {
     "duration": 0.017966,
     "end_time": "2024-07-06T19:39:13.364589",
     "exception": false,
     "start_time": "2024-07-06T19:39:13.346623",
     "status": "completed"
    },
    "tags": []
   },
   "outputs": [
    {
     "data": {
      "text/plain": [
       "array([1])"
      ]
     },
     "execution_count": null,
     "metadata": {},
     "output_type": "execute_result"
    }
   ],
   "source": []
  },
  {
   "cell_type": "code",
   "execution_count": null,
   "id": "bd884953",
   "metadata": {
    "execution": {
     "iopub.execute_input": "2024-07-06T19:39:13.370248Z",
     "iopub.status.busy": "2024-07-06T19:39:13.369972Z",
     "iopub.status.idle": "2024-07-06T19:39:13.378737Z",
     "shell.execute_reply": "2024-07-06T19:39:13.378205Z"
    },
    "papermill": {
     "duration": 0.01378,
     "end_time": "2024-07-06T19:39:13.380611",
     "exception": false,
     "start_time": "2024-07-06T19:39:13.366831",
     "status": "completed"
    },
    "tags": []
   },
   "outputs": [
    {
     "data": {
      "text/plain": [
       "array([[0.14814815, 0.85185185]])"
      ]
     },
     "execution_count": null,
     "metadata": {},
     "output_type": "execute_result"
    }
   ],
   "source": []
  },
  {
   "cell_type": "code",
   "execution_count": null,
   "id": "c07624f5",
   "metadata": {
    "execution": {
     "iopub.execute_input": "2024-07-06T19:39:13.389013Z",
     "iopub.status.busy": "2024-07-06T19:39:13.388735Z",
     "iopub.status.idle": "2024-07-06T19:39:13.393592Z",
     "shell.execute_reply": "2024-07-06T19:39:13.393071Z"
    },
    "papermill": {
     "duration": 0.011455,
     "end_time": "2024-07-06T19:39:13.395572",
     "exception": false,
     "start_time": "2024-07-06T19:39:13.384117",
     "status": "completed"
    },
    "tags": []
   },
   "outputs": [
    {
     "data": {
      "text/plain": [
       "0.8518518518518519"
      ]
     },
     "execution_count": null,
     "metadata": {},
     "output_type": "execute_result"
    }
   ],
   "source": []
  }
 ],
 "metadata": {
  "kernelspec": {
   "display_name": "work",
   "language": "python",
   "name": "python3"
  },
  "language_info": {
   "codemirror_mode": {
    "name": "ipython",
    "version": 3
   },
   "file_extension": ".py",
   "mimetype": "text/x-python",
   "name": "python",
   "nbconvert_exporter": "python",
   "pygments_lexer": "ipython3",
   "version": "3.12.0"
  },
  "papermill": {
   "default_parameters": {},
   "duration": 3.511093,
   "end_time": "2024-07-06T19:39:13.721939",
   "environment_variables": {},
   "exception": null,
   "input_path": "/Users/sota/Dropbox/2 Business/1 Datons/2 Areas/Courses/3 Catalogue/20 ML/1 Materials/ML-P/notebooks/30_Data Preprocessing/2_Backend/B_Solution.ipynb",
   "output_path": "/Users/sota/Dropbox/2 Business/1 Datons/2 Areas/Courses/3 Catalogue/20 ML/1 Materials/ML-P/notebooks/30_Data Preprocessing/2_Backend/B_Solution.ipynb",
   "parameters": {},
   "start_time": "2024-07-06T19:39:10.210846",
   "version": "2.5.0"
  }
 },
 "nbformat": 4,
 "nbformat_minor": 5
}
