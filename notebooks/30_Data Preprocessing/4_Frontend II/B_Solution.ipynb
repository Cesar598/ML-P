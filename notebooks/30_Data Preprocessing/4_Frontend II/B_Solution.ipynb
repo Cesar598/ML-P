{
 "cells": [
  {
   "cell_type": "markdown",
   "id": "3dd7f15e",
   "metadata": {
    "papermill": {
     "duration": 0.006267,
     "end_time": "2024-07-06T19:40:00.226362",
     "exception": false,
     "start_time": "2024-07-06T19:40:00.220095",
     "status": "completed"
    },
    "tags": []
   },
   "source": [
    "# Simulate user interaction"
   ]
  },
  {
   "cell_type": "markdown",
   "id": "9bfdddae",
   "metadata": {
    "papermill": {
     "duration": 0.026388,
     "end_time": "2024-07-06T19:40:00.257444",
     "exception": false,
     "start_time": "2024-07-06T19:40:00.231056",
     "status": "completed"
    },
    "tags": []
   },
   "source": [
    "## Streamlit input widgets\n",
    "\n",
    "https://docs.streamlit.io/develop/api-reference/widgets"
   ]
  },
  {
   "cell_type": "code",
   "execution_count": 1,
   "id": "f8b13224",
   "metadata": {
    "execution": {
     "iopub.execute_input": "2024-07-06T19:40:00.270333Z",
     "iopub.status.busy": "2024-07-06T19:40:00.269960Z",
     "iopub.status.idle": "2024-07-06T19:40:01.276880Z",
     "shell.execute_reply": "2024-07-06T19:40:01.276154Z"
    },
    "papermill": {
     "duration": 1.01593,
     "end_time": "2024-07-06T19:40:01.278786",
     "exception": false,
     "start_time": "2024-07-06T19:40:00.262856",
     "status": "completed"
    },
    "tags": []
   },
   "outputs": [],
   "source": [
    "import streamlit as st"
   ]
  },
  {
   "cell_type": "markdown",
   "id": "64cb3d42",
   "metadata": {
    "papermill": {
     "duration": 0.005403,
     "end_time": "2024-07-06T19:40:01.289710",
     "exception": false,
     "start_time": "2024-07-06T19:40:01.284307",
     "status": "completed"
    },
    "tags": []
   },
   "source": [
    "### Categorical features"
   ]
  },
  {
   "cell_type": "markdown",
   "id": "bd62306d",
   "metadata": {
    "papermill": {
     "duration": 0.026735,
     "end_time": "2024-07-06T19:40:01.322144",
     "exception": false,
     "start_time": "2024-07-06T19:40:01.295409",
     "status": "completed"
    },
    "tags": []
   },
   "source": [
    "#### Load options"
   ]
  },
  {
   "cell_type": "code",
   "execution_count": 2,
   "id": "c8ea7189",
   "metadata": {
    "execution": {
     "iopub.execute_input": "2024-07-06T19:40:01.355108Z",
     "iopub.status.busy": "2024-07-06T19:40:01.354762Z",
     "iopub.status.idle": "2024-07-06T19:40:01.361874Z",
     "shell.execute_reply": "2024-07-06T19:40:01.361067Z"
    },
    "papermill": {
     "duration": 0.015233,
     "end_time": "2024-07-06T19:40:01.363503",
     "exception": false,
     "start_time": "2024-07-06T19:40:01.348270",
     "status": "completed"
    },
    "tags": []
   },
   "outputs": [
    {
     "data": {
      "text/plain": [
       "<bound method SelectboxMixin.selectbox of DeltaGenerator()>"
      ]
     },
     "execution_count": 2,
     "metadata": {},
     "output_type": "execute_result"
    }
   ],
   "source": [
    "st.selectbox"
   ]
  },
  {
   "cell_type": "code",
   "execution_count": 3,
   "id": "4149fc04",
   "metadata": {
    "execution": {
     "iopub.execute_input": "2024-07-06T19:40:01.375015Z",
     "iopub.status.busy": "2024-07-06T19:40:01.374557Z",
     "iopub.status.idle": "2024-07-06T19:40:01.383943Z",
     "shell.execute_reply": "2024-07-06T19:40:01.382124Z"
    },
    "papermill": {
     "duration": 0.017679,
     "end_time": "2024-07-06T19:40:01.386516",
     "exception": false,
     "start_time": "2024-07-06T19:40:01.368837",
     "status": "completed"
    },
    "tags": []
   },
   "outputs": [
    {
     "data": {
      "text/plain": [
       "{'Industry': ['CommunicationServices',\n",
       "  'ConsumerDiscretionary',\n",
       "  'ConsumerStaples',\n",
       "  'Education',\n",
       "  'Energy',\n",
       "  'Financials',\n",
       "  'Healthcare',\n",
       "  'Industrials',\n",
       "  'InformationTechnology',\n",
       "  'Materials',\n",
       "  'Real Estate',\n",
       "  'Research',\n",
       "  'Transport',\n",
       "  'Utilities'],\n",
       " 'Ethnicity': ['Asian', 'Black', 'Latino', 'Other', 'White'],\n",
       " 'Gender': ['Female', 'Male'],\n",
       " 'CivilStatus': ['Married', 'Other']}"
      ]
     },
     "execution_count": 3,
     "metadata": {},
     "output_type": "execute_result"
    }
   ],
   "source": [
    "import json\n",
    "\n",
    "with open('../src/options_categorical.json', 'r') as file:\n",
    "    options_categorical = json.load(file)\n",
    "    \n",
    "options_categorical"
   ]
  },
  {
   "cell_type": "markdown",
   "id": "ac2716c8",
   "metadata": {
    "papermill": {
     "duration": 0.00813,
     "end_time": "2024-07-06T19:40:01.401857",
     "exception": false,
     "start_time": "2024-07-06T19:40:01.393727",
     "status": "completed"
    },
    "tags": []
   },
   "source": [
    "#### Simulate input"
   ]
  },
  {
   "cell_type": "code",
   "execution_count": 4,
   "id": "1fc53e2c",
   "metadata": {
    "execution": {
     "iopub.execute_input": "2024-07-06T19:40:01.453132Z",
     "iopub.status.busy": "2024-07-06T19:40:01.452525Z",
     "iopub.status.idle": "2024-07-06T19:40:01.702005Z",
     "shell.execute_reply": "2024-07-06T19:40:01.701229Z"
    },
    "papermill": {
     "duration": 0.280873,
     "end_time": "2024-07-06T19:40:01.703824",
     "exception": false,
     "start_time": "2024-07-06T19:40:01.422951",
     "status": "completed"
    },
    "tags": []
   },
   "outputs": [
    {
     "name": "stderr",
     "output_type": "stream",
     "text": [
      "2024-07-06 21:40:01.454 WARNING streamlit.runtime.state.session_state_proxy: Session state does not function when running a script without `streamlit run`\n"
     ]
    },
    {
     "name": "stderr",
     "output_type": "stream",
     "text": [
      "2024-07-06 21:40:01.696 \n",
      "  \u001b[33m\u001b[1mWarning:\u001b[0m to view this Streamlit app on a browser, run it with the following\n",
      "  command:\n",
      "\n",
      "    streamlit run /Users/sota/miniforge3/envs/datons.stories/lib/python3.12/site-packages/ipykernel_launcher.py [ARGUMENTS]\n"
     ]
    },
    {
     "data": {
      "text/plain": [
       "{'Industry': 'CommunicationServices',\n",
       " 'Ethnicity': 'Asian',\n",
       " 'Gender': 'Female',\n",
       " 'CivilStatus': 'Married'}"
      ]
     },
     "execution_count": 4,
     "metadata": {},
     "output_type": "execute_result"
    }
   ],
   "source": [
    "form_input = {}\n",
    "\n",
    "for key, value in options_categorical.items():\n",
    "    form_input[key] = st.selectbox(key, value)\n",
    "    \n",
    "form_input"
   ]
  },
  {
   "cell_type": "markdown",
   "id": "293442aa",
   "metadata": {
    "papermill": {
     "duration": 0.00448,
     "end_time": "2024-07-06T19:40:01.712910",
     "exception": false,
     "start_time": "2024-07-06T19:40:01.708430",
     "status": "completed"
    },
    "tags": []
   },
   "source": [
    "### Numerical features"
   ]
  },
  {
   "cell_type": "code",
   "execution_count": 5,
   "id": "6754edd5",
   "metadata": {
    "execution": {
     "iopub.execute_input": "2024-07-06T19:40:01.756790Z",
     "iopub.status.busy": "2024-07-06T19:40:01.756495Z",
     "iopub.status.idle": "2024-07-06T19:40:01.761196Z",
     "shell.execute_reply": "2024-07-06T19:40:01.760570Z"
    },
    "papermill": {
     "duration": 0.028221,
     "end_time": "2024-07-06T19:40:01.762879",
     "exception": false,
     "start_time": "2024-07-06T19:40:01.734658",
     "status": "completed"
    },
    "tags": []
   },
   "outputs": [
    {
     "data": {
      "text/plain": [
       "<bound method NumberInputMixin.number_input of DeltaGenerator()>"
      ]
     },
     "execution_count": 5,
     "metadata": {},
     "output_type": "execute_result"
    }
   ],
   "source": [
    "st.number_input"
   ]
  },
  {
   "cell_type": "markdown",
   "id": "fab9620d",
   "metadata": {
    "papermill": {
     "duration": 0.030927,
     "end_time": "2024-07-06T19:40:01.814222",
     "exception": false,
     "start_time": "2024-07-06T19:40:01.783295",
     "status": "completed"
    },
    "tags": []
   },
   "source": [
    "#### Load options"
   ]
  },
  {
   "cell_type": "code",
   "execution_count": 6,
   "id": "0da4a970",
   "metadata": {
    "execution": {
     "iopub.execute_input": "2024-07-06T19:40:01.834341Z",
     "iopub.status.busy": "2024-07-06T19:40:01.833837Z",
     "iopub.status.idle": "2024-07-06T19:40:01.842147Z",
     "shell.execute_reply": "2024-07-06T19:40:01.841206Z"
    },
    "papermill": {
     "duration": 0.020069,
     "end_time": "2024-07-06T19:40:01.844988",
     "exception": false,
     "start_time": "2024-07-06T19:40:01.824919",
     "status": "completed"
    },
    "tags": []
   },
   "outputs": [
    {
     "data": {
      "text/plain": [
       "{'Age': 31.066666666666666,\n",
       " 'YearsEmployed': 2.223405797101449,\n",
       " 'Income': 1017.3855072463768}"
      ]
     },
     "execution_count": 6,
     "metadata": {},
     "output_type": "execute_result"
    }
   ],
   "source": [
    "with open('../src/options_numerical.json', 'r') as file:\n",
    "    options_numerical = json.load(file)\n",
    "    \n",
    "options_numerical"
   ]
  },
  {
   "cell_type": "markdown",
   "id": "67a70193",
   "metadata": {
    "papermill": {
     "duration": 0.004457,
     "end_time": "2024-07-06T19:40:01.855670",
     "exception": false,
     "start_time": "2024-07-06T19:40:01.851213",
     "status": "completed"
    },
    "tags": []
   },
   "source": [
    "#### Simulate input"
   ]
  },
  {
   "cell_type": "code",
   "execution_count": 7,
   "id": "9f75503a",
   "metadata": {
    "execution": {
     "iopub.execute_input": "2024-07-06T19:40:01.868229Z",
     "iopub.status.busy": "2024-07-06T19:40:01.867167Z",
     "iopub.status.idle": "2024-07-06T19:40:01.875091Z",
     "shell.execute_reply": "2024-07-06T19:40:01.874491Z"
    },
    "papermill": {
     "duration": 0.016269,
     "end_time": "2024-07-06T19:40:01.876781",
     "exception": false,
     "start_time": "2024-07-06T19:40:01.860512",
     "status": "completed"
    },
    "tags": []
   },
   "outputs": [
    {
     "data": {
      "text/plain": [
       "{'Industry': 'CommunicationServices',\n",
       " 'Ethnicity': 'Asian',\n",
       " 'Gender': 'Female',\n",
       " 'CivilStatus': 'Married',\n",
       " 'Age': 31.066666666666666,\n",
       " 'YearsEmployed': 2.223405797101449,\n",
       " 'Income': 1017.3855072463768}"
      ]
     },
     "execution_count": 7,
     "metadata": {},
     "output_type": "execute_result"
    }
   ],
   "source": [
    "for key, value in options_numerical.items():\n",
    "    form_input[key] = st.number_input(key, value=value)\n",
    "    \n",
    "form_input"
   ]
  },
  {
   "cell_type": "markdown",
   "id": "08862dc7",
   "metadata": {
    "papermill": {
     "duration": 0.008148,
     "end_time": "2024-07-06T19:40:01.889498",
     "exception": false,
     "start_time": "2024-07-06T19:40:01.881350",
     "status": "completed"
    },
    "tags": []
   },
   "source": [
    "## Simulate prediction"
   ]
  },
  {
   "cell_type": "markdown",
   "id": "614f1720",
   "metadata": {
    "papermill": {
     "duration": 0.006002,
     "end_time": "2024-07-06T19:40:01.902960",
     "exception": false,
     "start_time": "2024-07-06T19:40:01.896958",
     "status": "completed"
    },
    "tags": []
   },
   "source": [
    "### Ask for user name"
   ]
  },
  {
   "cell_type": "code",
   "execution_count": 8,
   "id": "e91d00ee",
   "metadata": {
    "execution": {
     "iopub.execute_input": "2024-07-06T19:40:01.912576Z",
     "iopub.status.busy": "2024-07-06T19:40:01.912289Z",
     "iopub.status.idle": "2024-07-06T19:40:01.916492Z",
     "shell.execute_reply": "2024-07-06T19:40:01.915269Z"
    },
    "papermill": {
     "duration": 0.011441,
     "end_time": "2024-07-06T19:40:01.918830",
     "exception": false,
     "start_time": "2024-07-06T19:40:01.907389",
     "status": "completed"
    },
    "tags": []
   },
   "outputs": [],
   "source": [
    "name = st.text_input('Name', 'John Doe')"
   ]
  },
  {
   "cell_type": "markdown",
   "id": "126a82dc",
   "metadata": {
    "papermill": {
     "duration": 0.023533,
     "end_time": "2024-07-06T19:40:01.946874",
     "exception": false,
     "start_time": "2024-07-06T19:40:01.923341",
     "status": "completed"
    },
    "tags": []
   },
   "source": [
    "### Preprocess input to `DataFrame`"
   ]
  },
  {
   "cell_type": "code",
   "execution_count": 9,
   "id": "d8874fea",
   "metadata": {
    "execution": {
     "iopub.execute_input": "2024-07-06T19:40:02.016351Z",
     "iopub.status.busy": "2024-07-06T19:40:02.015802Z",
     "iopub.status.idle": "2024-07-06T19:40:05.346951Z",
     "shell.execute_reply": "2024-07-06T19:40:05.346137Z"
    },
    "papermill": {
     "duration": 3.342587,
     "end_time": "2024-07-06T19:40:05.349204",
     "exception": false,
     "start_time": "2024-07-06T19:40:02.006617",
     "status": "completed"
    },
    "tags": []
   },
   "outputs": [
    {
     "data": {
      "text/html": [
       "<div>\n",
       "<style scoped>\n",
       "    .dataframe tbody tr th:only-of-type {\n",
       "        vertical-align: middle;\n",
       "    }\n",
       "\n",
       "    .dataframe tbody tr th {\n",
       "        vertical-align: top;\n",
       "    }\n",
       "\n",
       "    .dataframe thead th {\n",
       "        text-align: right;\n",
       "    }\n",
       "</style>\n",
       "<table border=\"1\" class=\"dataframe\">\n",
       "  <thead>\n",
       "    <tr style=\"text-align: right;\">\n",
       "      <th></th>\n",
       "      <th>Industry</th>\n",
       "      <th>Ethnicity</th>\n",
       "      <th>Gender</th>\n",
       "      <th>CivilStatus</th>\n",
       "      <th>Age</th>\n",
       "      <th>YearsEmployed</th>\n",
       "      <th>Income</th>\n",
       "    </tr>\n",
       "  </thead>\n",
       "  <tbody>\n",
       "    <tr>\n",
       "      <th>John Doe</th>\n",
       "      <td>CommunicationServices</td>\n",
       "      <td>Asian</td>\n",
       "      <td>Female</td>\n",
       "      <td>Married</td>\n",
       "      <td>31.066667</td>\n",
       "      <td>2.223406</td>\n",
       "      <td>1017.385507</td>\n",
       "    </tr>\n",
       "  </tbody>\n",
       "</table>\n",
       "</div>"
      ],
      "text/plain": [
       "                       Industry Ethnicity  Gender CivilStatus        Age  \\\n",
       "John Doe  CommunicationServices     Asian  Female     Married  31.066667   \n",
       "\n",
       "          YearsEmployed       Income  \n",
       "John Doe       2.223406  1017.385507  "
      ]
     },
     "execution_count": 9,
     "metadata": {},
     "output_type": "execute_result"
    }
   ],
   "source": [
    "import pandas as pd\n",
    "\n",
    "df_input = pd.DataFrame(form_input, index=[name])\n",
    "df_input"
   ]
  },
  {
   "cell_type": "markdown",
   "id": "ae7dcf62",
   "metadata": {
    "papermill": {
     "duration": 0.005756,
     "end_time": "2024-07-06T19:40:05.359834",
     "exception": false,
     "start_time": "2024-07-06T19:40:05.354078",
     "status": "completed"
    },
    "tags": []
   },
   "source": [
    "### Load pipeline"
   ]
  },
  {
   "cell_type": "code",
   "execution_count": 10,
   "id": "9aa6da89",
   "metadata": {
    "execution": {
     "iopub.execute_input": "2024-07-06T19:40:05.372724Z",
     "iopub.status.busy": "2024-07-06T19:40:05.372323Z",
     "iopub.status.idle": "2024-07-06T19:40:06.848297Z",
     "shell.execute_reply": "2024-07-06T19:40:06.847338Z"
    },
    "papermill": {
     "duration": 1.484826,
     "end_time": "2024-07-06T19:40:06.850074",
     "exception": false,
     "start_time": "2024-07-06T19:40:05.365248",
     "status": "completed"
    },
    "tags": []
   },
   "outputs": [],
   "source": [
    "import pickle\n",
    "\n",
    "path = '../artifacts/pipeline.pkl'\n",
    "\n",
    "with open(path, 'rb') as file:\n",
    "    pipeline = pickle.load(file)"
   ]
  },
  {
   "cell_type": "markdown",
   "id": "c8784e12",
   "metadata": {
    "papermill": {
     "duration": 0.005808,
     "end_time": "2024-07-06T19:40:06.861488",
     "exception": false,
     "start_time": "2024-07-06T19:40:06.855680",
     "status": "completed"
    },
    "tags": []
   },
   "source": [
    "#### Calculate prediction"
   ]
  },
  {
   "cell_type": "code",
   "execution_count": 11,
   "id": "b06de736",
   "metadata": {
    "execution": {
     "iopub.execute_input": "2024-07-06T19:40:06.895202Z",
     "iopub.status.busy": "2024-07-06T19:40:06.894490Z",
     "iopub.status.idle": "2024-07-06T19:40:06.913068Z",
     "shell.execute_reply": "2024-07-06T19:40:06.912573Z"
    },
    "papermill": {
     "duration": 0.047182,
     "end_time": "2024-07-06T19:40:06.914906",
     "exception": false,
     "start_time": "2024-07-06T19:40:06.867724",
     "status": "completed"
    },
    "tags": []
   },
   "outputs": [
    {
     "data": {
      "text/plain": [
       "array([1])"
      ]
     },
     "execution_count": 11,
     "metadata": {},
     "output_type": "execute_result"
    }
   ],
   "source": [
    "pipeline.predict(df_input)"
   ]
  },
  {
   "cell_type": "code",
   "execution_count": 12,
   "id": "510d0a2e",
   "metadata": {
    "execution": {
     "iopub.execute_input": "2024-07-06T19:40:06.927614Z",
     "iopub.status.busy": "2024-07-06T19:40:06.927288Z",
     "iopub.status.idle": "2024-07-06T19:40:06.939937Z",
     "shell.execute_reply": "2024-07-06T19:40:06.938966Z"
    },
    "papermill": {
     "duration": 0.02336,
     "end_time": "2024-07-06T19:40:06.943151",
     "exception": false,
     "start_time": "2024-07-06T19:40:06.919791",
     "status": "completed"
    },
    "tags": []
   },
   "outputs": [
    {
     "data": {
      "text/plain": [
       "array([[0.14814815, 0.85185185]])"
      ]
     },
     "execution_count": 12,
     "metadata": {},
     "output_type": "execute_result"
    }
   ],
   "source": [
    "pipeline.predict_proba(df_input)"
   ]
  },
  {
   "cell_type": "code",
   "execution_count": 13,
   "id": "4ef9000c",
   "metadata": {
    "execution": {
     "iopub.execute_input": "2024-07-06T19:40:06.958419Z",
     "iopub.status.busy": "2024-07-06T19:40:06.958104Z",
     "iopub.status.idle": "2024-07-06T19:40:06.966999Z",
     "shell.execute_reply": "2024-07-06T19:40:06.966478Z"
    },
    "papermill": {
     "duration": 0.017757,
     "end_time": "2024-07-06T19:40:06.968498",
     "exception": false,
     "start_time": "2024-07-06T19:40:06.950741",
     "status": "completed"
    },
    "tags": []
   },
   "outputs": [
    {
     "data": {
      "text/plain": [
       "0.8518518518518519"
      ]
     },
     "execution_count": 13,
     "metadata": {},
     "output_type": "execute_result"
    }
   ],
   "source": [
    "pipeline.predict_proba(df_input)[0,1]"
   ]
  },
  {
   "cell_type": "markdown",
   "id": "5b8fcca9",
   "metadata": {
    "papermill": {
     "duration": 0.025587,
     "end_time": "2024-07-06T19:40:07.005923",
     "exception": false,
     "start_time": "2024-07-06T19:40:06.980336",
     "status": "completed"
    },
    "tags": []
   },
   "source": [
    "## Create app\n",
    "\n",
    "1. Create a file `app.py` in the root folder\n",
    "2. Add the previous code to the file"
   ]
  }
 ],
 "metadata": {
  "kernelspec": {
   "display_name": "work",
   "language": "python",
   "name": "python3"
  },
  "language_info": {
   "codemirror_mode": {
    "name": "ipython",
    "version": 3
   },
   "file_extension": ".py",
   "mimetype": "text/x-python",
   "name": "python",
   "nbconvert_exporter": "python",
   "pygments_lexer": "ipython3",
   "version": "3.12.0"
  },
  "papermill": {
   "default_parameters": {},
   "duration": 9.041009,
   "end_time": "2024-07-06T19:40:07.440323",
   "environment_variables": {},
   "exception": null,
   "input_path": "/Users/sota/Dropbox/2 Business/1 Datons/2 Areas/Courses/3 Catalogue/20 ML/1 Materials/ML-P/notebooks/30_Data Preprocessing/4_Frontend II/B_Solution.ipynb",
   "output_path": "/Users/sota/Dropbox/2 Business/1 Datons/2 Areas/Courses/3 Catalogue/20 ML/1 Materials/ML-P/notebooks/30_Data Preprocessing/4_Frontend II/B_Solution.ipynb",
   "parameters": {},
   "start_time": "2024-07-06T19:39:58.399314",
   "version": "2.6.0"
  }
 },
 "nbformat": 4,
 "nbformat_minor": 5
}