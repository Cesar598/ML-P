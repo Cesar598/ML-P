{
 "cells": [
  {
   "cell_type": "markdown",
   "id": "3dd7f15e",
   "metadata": {
    "papermill": {
     "duration": 0.002687,
     "end_time": "2024-06-05T07:54:59.420183",
     "exception": false,
     "start_time": "2024-06-05T07:54:59.417496",
     "status": "completed"
    },
    "tags": []
   },
   "source": [
    "# Simulate user interaction"
   ]
  },
  {
   "cell_type": "markdown",
   "id": "9bfdddae",
   "metadata": {
    "papermill": {
     "duration": 0.001936,
     "end_time": "2024-06-05T07:54:59.424394",
     "exception": false,
     "start_time": "2024-06-05T07:54:59.422458",
     "status": "completed"
    },
    "tags": []
   },
   "source": [
    "## Streamlit input widgets\n",
    "\n",
    "https://docs.streamlit.io/develop/api-reference/widgets"
   ]
  },
  {
   "cell_type": "code",
   "execution_count": null,
   "id": "f8b13224",
   "metadata": {
    "execution": {
     "iopub.execute_input": "2024-06-05T07:54:59.428505Z",
     "iopub.status.busy": "2024-06-05T07:54:59.428342Z",
     "iopub.status.idle": "2024-06-05T07:54:59.514881Z",
     "shell.execute_reply": "2024-06-05T07:54:59.514599Z"
    },
    "papermill": {
     "duration": 0.089832,
     "end_time": "2024-06-05T07:54:59.515904",
     "exception": false,
     "start_time": "2024-06-05T07:54:59.426072",
     "status": "completed"
    },
    "tags": []
   },
   "outputs": [],
   "source": []
  },
  {
   "cell_type": "markdown",
   "id": "64cb3d42",
   "metadata": {
    "papermill": {
     "duration": 0.001499,
     "end_time": "2024-06-05T07:54:59.519104",
     "exception": false,
     "start_time": "2024-06-05T07:54:59.517605",
     "status": "completed"
    },
    "tags": []
   },
   "source": [
    "### Categorical features"
   ]
  },
  {
   "cell_type": "markdown",
   "id": "bd62306d",
   "metadata": {
    "papermill": {
     "duration": 0.001307,
     "end_time": "2024-06-05T07:54:59.521836",
     "exception": false,
     "start_time": "2024-06-05T07:54:59.520529",
     "status": "completed"
    },
    "tags": []
   },
   "source": [
    "#### Load options"
   ]
  },
  {
   "cell_type": "code",
   "execution_count": null,
   "id": "c8ea7189",
   "metadata": {
    "execution": {
     "iopub.execute_input": "2024-06-05T07:54:59.525856Z",
     "iopub.status.busy": "2024-06-05T07:54:59.525610Z",
     "iopub.status.idle": "2024-06-05T07:54:59.528710Z",
     "shell.execute_reply": "2024-06-05T07:54:59.528486Z"
    },
    "papermill": {
     "duration": 0.005911,
     "end_time": "2024-06-05T07:54:59.529379",
     "exception": false,
     "start_time": "2024-06-05T07:54:59.523468",
     "status": "completed"
    },
    "tags": []
   },
   "outputs": [
    {
     "data": {
      "text/plain": [
       "<bound method SelectboxMixin.selectbox of DeltaGenerator()>"
      ]
     },
     "execution_count": null,
     "metadata": {},
     "output_type": "execute_result"
    }
   ],
   "source": []
  },
  {
   "cell_type": "code",
   "execution_count": null,
   "id": "4149fc04",
   "metadata": {
    "execution": {
     "iopub.execute_input": "2024-06-05T07:54:59.532558Z",
     "iopub.status.busy": "2024-06-05T07:54:59.532463Z",
     "iopub.status.idle": "2024-06-05T07:54:59.534715Z",
     "shell.execute_reply": "2024-06-05T07:54:59.534530Z"
    },
    "papermill": {
     "duration": 0.004593,
     "end_time": "2024-06-05T07:54:59.535407",
     "exception": false,
     "start_time": "2024-06-05T07:54:59.530814",
     "status": "completed"
    },
    "tags": []
   },
   "outputs": [
    {
     "data": {
      "text/plain": [
       "{'Industry': ['CommunicationServices',\n",
       "  'ConsumerDiscretionary',\n",
       "  'ConsumerStaples',\n",
       "  'Education',\n",
       "  'Energy',\n",
       "  'Financials',\n",
       "  'Healthcare',\n",
       "  'Industrials',\n",
       "  'InformationTechnology',\n",
       "  'Materials',\n",
       "  'Real Estate',\n",
       "  'Research',\n",
       "  'Transport',\n",
       "  'Utilities'],\n",
       " 'Ethnicity': ['Asian', 'Black', 'Latino', 'Other', 'White'],\n",
       " 'Gender': ['Female', 'Male'],\n",
       " 'CivilStatus': ['Married', 'Other']}"
      ]
     },
     "execution_count": null,
     "metadata": {},
     "output_type": "execute_result"
    }
   ],
   "source": []
  },
  {
   "cell_type": "markdown",
   "id": "ac2716c8",
   "metadata": {
    "papermill": {
     "duration": 0.00126,
     "end_time": "2024-06-05T07:54:59.537983",
     "exception": false,
     "start_time": "2024-06-05T07:54:59.536723",
     "status": "completed"
    },
    "tags": []
   },
   "source": [
    "#### Simulate input"
   ]
  },
  {
   "cell_type": "code",
   "execution_count": null,
   "id": "1fc53e2c",
   "metadata": {
    "execution": {
     "iopub.execute_input": "2024-06-05T07:54:59.541483Z",
     "iopub.status.busy": "2024-06-05T07:54:59.541373Z",
     "iopub.status.idle": "2024-06-05T07:54:59.566595Z",
     "shell.execute_reply": "2024-06-05T07:54:59.566390Z"
    },
    "papermill": {
     "duration": 0.02779,
     "end_time": "2024-06-05T07:54:59.567320",
     "exception": false,
     "start_time": "2024-06-05T07:54:59.539530",
     "status": "completed"
    },
    "tags": []
   },
   "outputs": [
    {
     "execution_count": null,
     "name": "stderr",
     "output_type": "stream",
     "text": [
      "2024-06-05 09:54:59.541 WARNING streamlit.runtime.state.session_state_proxy: Session state does not function when running a script without `streamlit run`\n"
     ]
    },
    {
     "execution_count": null,
     "name": "stderr",
     "output_type": "stream",
     "text": [
      "2024-06-05 09:54:59.564 \n",
      "  \u001b[33m\u001b[1mWarning:\u001b[0m to view this Streamlit app on a browser, run it with the following\n",
      "  command:\n",
      "\n",
      "    streamlit run /Users/sota/miniforge3/envs/work/lib/python3.12/site-packages/ipykernel_launcher.py [ARGUMENTS]\n"
     ]
    },
    {
     "data": {
      "text/plain": [
       "{'Industry': 'CommunicationServices',\n",
       " 'Ethnicity': 'Asian',\n",
       " 'Gender': 'Female',\n",
       " 'CivilStatus': 'Married'}"
      ]
     },
     "execution_count": null,
     "metadata": {},
     "output_type": "execute_result"
    }
   ],
   "source": []
  },
  {
   "cell_type": "markdown",
   "id": "293442aa",
   "metadata": {
    "papermill": {
     "duration": 0.001351,
     "end_time": "2024-06-05T07:54:59.570122",
     "exception": false,
     "start_time": "2024-06-05T07:54:59.568771",
     "status": "completed"
    },
    "tags": []
   },
   "source": [
    "### Numerical features"
   ]
  },
  {
   "cell_type": "code",
   "execution_count": null,
   "id": "6754edd5",
   "metadata": {
    "execution": {
     "iopub.execute_input": "2024-06-05T07:54:59.573430Z",
     "iopub.status.busy": "2024-06-05T07:54:59.573328Z",
     "iopub.status.idle": "2024-06-05T07:54:59.575191Z",
     "shell.execute_reply": "2024-06-05T07:54:59.574990Z"
    },
    "papermill": {
     "duration": 0.004365,
     "end_time": "2024-06-05T07:54:59.575834",
     "exception": false,
     "start_time": "2024-06-05T07:54:59.571469",
     "status": "completed"
    },
    "tags": []
   },
   "outputs": [
    {
     "data": {
      "text/plain": [
       "<bound method NumberInputMixin.number_input of DeltaGenerator()>"
      ]
     },
     "execution_count": null,
     "metadata": {},
     "output_type": "execute_result"
    }
   ],
   "source": []
  },
  {
   "cell_type": "markdown",
   "id": "fab9620d",
   "metadata": {
    "papermill": {
     "duration": 0.001363,
     "end_time": "2024-06-05T07:54:59.578579",
     "exception": false,
     "start_time": "2024-06-05T07:54:59.577216",
     "status": "completed"
    },
    "tags": []
   },
   "source": [
    "#### Load options"
   ]
  },
  {
   "cell_type": "code",
   "execution_count": null,
   "id": "0da4a970",
   "metadata": {
    "execution": {
     "iopub.execute_input": "2024-06-05T07:54:59.581855Z",
     "iopub.status.busy": "2024-06-05T07:54:59.581771Z",
     "iopub.status.idle": "2024-06-05T07:54:59.583717Z",
     "shell.execute_reply": "2024-06-05T07:54:59.583529Z"
    },
    "papermill": {
     "duration": 0.004464,
     "end_time": "2024-06-05T07:54:59.584410",
     "exception": false,
     "start_time": "2024-06-05T07:54:59.579946",
     "status": "completed"
    },
    "tags": []
   },
   "outputs": [
    {
     "data": {
      "text/plain": [
       "{'Age': 31.066666666666666,\n",
       " 'YearsEmployed': 2.223405797101449,\n",
       " 'Income': 1017.3855072463768}"
      ]
     },
     "execution_count": null,
     "metadata": {},
     "output_type": "execute_result"
    }
   ],
   "source": []
  },
  {
   "cell_type": "markdown",
   "id": "67a70193",
   "metadata": {
    "papermill": {
     "duration": 0.001434,
     "end_time": "2024-06-05T07:54:59.587311",
     "exception": false,
     "start_time": "2024-06-05T07:54:59.585877",
     "status": "completed"
    },
    "tags": []
   },
   "source": [
    "#### Simulate input"
   ]
  },
  {
   "cell_type": "code",
   "execution_count": null,
   "id": "9f75503a",
   "metadata": {
    "execution": {
     "iopub.execute_input": "2024-06-05T07:54:59.590732Z",
     "iopub.status.busy": "2024-06-05T07:54:59.590636Z",
     "iopub.status.idle": "2024-06-05T07:54:59.592770Z",
     "shell.execute_reply": "2024-06-05T07:54:59.592576Z"
    },
    "papermill": {
     "duration": 0.004564,
     "end_time": "2024-06-05T07:54:59.593432",
     "exception": false,
     "start_time": "2024-06-05T07:54:59.588868",
     "status": "completed"
    },
    "tags": []
   },
   "outputs": [
    {
     "data": {
      "text/plain": [
       "{'Industry': 'CommunicationServices',\n",
       " 'Ethnicity': 'Asian',\n",
       " 'Gender': 'Female',\n",
       " 'CivilStatus': 'Married',\n",
       " 'Age': 31.066666666666666,\n",
       " 'YearsEmployed': 2.223405797101449,\n",
       " 'Income': 1017.3855072463768}"
      ]
     },
     "execution_count": null,
     "metadata": {},
     "output_type": "execute_result"
    }
   ],
   "source": []
  },
  {
   "cell_type": "markdown",
   "id": "08862dc7",
   "metadata": {
    "papermill": {
     "duration": 0.001448,
     "end_time": "2024-06-05T07:54:59.596387",
     "exception": false,
     "start_time": "2024-06-05T07:54:59.594939",
     "status": "completed"
    },
    "tags": []
   },
   "source": [
    "## Simulate prediction"
   ]
  },
  {
   "cell_type": "markdown",
   "id": "614f1720",
   "metadata": {
    "papermill": {
     "duration": 0.001519,
     "end_time": "2024-06-05T07:54:59.599410",
     "exception": false,
     "start_time": "2024-06-05T07:54:59.597891",
     "status": "completed"
    },
    "tags": []
   },
   "source": [
    "### Ask for user name"
   ]
  },
  {
   "cell_type": "code",
   "execution_count": null,
   "id": "e91d00ee",
   "metadata": {
    "execution": {
     "iopub.execute_input": "2024-06-05T07:54:59.602838Z",
     "iopub.status.busy": "2024-06-05T07:54:59.602749Z",
     "iopub.status.idle": "2024-06-05T07:54:59.604307Z",
     "shell.execute_reply": "2024-06-05T07:54:59.604101Z"
    },
    "papermill": {
     "duration": 0.004059,
     "end_time": "2024-06-05T07:54:59.604972",
     "exception": false,
     "start_time": "2024-06-05T07:54:59.600913",
     "status": "completed"
    },
    "tags": []
   },
   "outputs": [],
   "source": []
  },
  {
   "cell_type": "markdown",
   "id": "126a82dc",
   "metadata": {
    "papermill": {
     "duration": 0.001523,
     "end_time": "2024-06-05T07:54:59.608072",
     "exception": false,
     "start_time": "2024-06-05T07:54:59.606549",
     "status": "completed"
    },
    "tags": []
   },
   "source": [
    "### Preprocess input to `DataFrame`"
   ]
  },
  {
   "cell_type": "code",
   "execution_count": null,
   "id": "d8874fea",
   "metadata": {
    "execution": {
     "iopub.execute_input": "2024-06-05T07:54:59.611567Z",
     "iopub.status.busy": "2024-06-05T07:54:59.611481Z",
     "iopub.status.idle": "2024-06-05T07:54:59.615913Z",
     "shell.execute_reply": "2024-06-05T07:54:59.615726Z"
    },
    "papermill": {
     "duration": 0.006936,
     "end_time": "2024-06-05T07:54:59.616560",
     "exception": false,
     "start_time": "2024-06-05T07:54:59.609624",
     "status": "completed"
    },
    "tags": []
   },
   "outputs": [
    {
     "data": {
      "text/html": [
       "<div>\n",
       "<style scoped>\n",
       "    .dataframe tbody tr th:only-of-type {\n",
       "        vertical-align: middle;\n",
       "    }\n",
       "\n",
       "    .dataframe tbody tr th {\n",
       "        vertical-align: top;\n",
       "    }\n",
       "\n",
       "    .dataframe thead th {\n",
       "        text-align: right;\n",
       "    }\n",
       "</style>\n",
       "<table border=\"1\" class=\"dataframe\">\n",
       "  <thead>\n",
       "    <tr style=\"text-align: right;\">\n",
       "      <th></th>\n",
       "      <th>Industry</th>\n",
       "      <th>Ethnicity</th>\n",
       "      <th>Gender</th>\n",
       "      <th>CivilStatus</th>\n",
       "      <th>Age</th>\n",
       "      <th>YearsEmployed</th>\n",
       "      <th>Income</th>\n",
       "    </tr>\n",
       "  </thead>\n",
       "  <tbody>\n",
       "    <tr>\n",
       "      <th>John Doe</th>\n",
       "      <td>CommunicationServices</td>\n",
       "      <td>Asian</td>\n",
       "      <td>Female</td>\n",
       "      <td>Married</td>\n",
       "      <td>31.066667</td>\n",
       "      <td>2.223406</td>\n",
       "      <td>1017.385507</td>\n",
       "    </tr>\n",
       "  </tbody>\n",
       "</table>\n",
       "</div>"
      ],
      "text/plain": [
       "                       Industry Ethnicity  Gender CivilStatus        Age  \\\n",
       "John Doe  CommunicationServices     Asian  Female     Married  31.066667   \n",
       "\n",
       "          YearsEmployed       Income  \n",
       "John Doe       2.223406  1017.385507  "
      ]
     },
     "execution_count": null,
     "metadata": {},
     "output_type": "execute_result"
    }
   ],
   "source": []
  },
  {
   "cell_type": "markdown",
   "id": "ae7dcf62",
   "metadata": {
    "papermill": {
     "duration": 0.0015,
     "end_time": "2024-06-05T07:54:59.619677",
     "exception": false,
     "start_time": "2024-06-05T07:54:59.618177",
     "status": "completed"
    },
    "tags": []
   },
   "source": [
    "### Load pipeline"
   ]
  },
  {
   "cell_type": "code",
   "execution_count": null,
   "id": "9aa6da89",
   "metadata": {
    "execution": {
     "iopub.execute_input": "2024-06-05T07:54:59.623117Z",
     "iopub.status.busy": "2024-06-05T07:54:59.623020Z",
     "iopub.status.idle": "2024-06-05T07:54:59.952434Z",
     "shell.execute_reply": "2024-06-05T07:54:59.952144Z"
    },
    "papermill": {
     "duration": 0.33223,
     "end_time": "2024-06-05T07:54:59.953412",
     "exception": false,
     "start_time": "2024-06-05T07:54:59.621182",
     "status": "completed"
    },
    "tags": []
   },
   "outputs": [],
   "source": []
  },
  {
   "cell_type": "markdown",
   "id": "c8784e12",
   "metadata": {
    "papermill": {
     "duration": 0.001809,
     "end_time": "2024-06-05T07:54:59.957521",
     "exception": false,
     "start_time": "2024-06-05T07:54:59.955712",
     "status": "completed"
    },
    "tags": []
   },
   "source": [
    "#### Calculate prediction"
   ]
  },
  {
   "cell_type": "code",
   "execution_count": null,
   "id": "b06de736",
   "metadata": {
    "execution": {
     "iopub.execute_input": "2024-06-05T07:54:59.961686Z",
     "iopub.status.busy": "2024-06-05T07:54:59.961519Z",
     "iopub.status.idle": "2024-06-05T07:54:59.965869Z",
     "shell.execute_reply": "2024-06-05T07:54:59.965634Z"
    },
    "papermill": {
     "duration": 0.00704,
     "end_time": "2024-06-05T07:54:59.966521",
     "exception": false,
     "start_time": "2024-06-05T07:54:59.959481",
     "status": "completed"
    },
    "tags": []
   },
   "outputs": [
    {
     "data": {
      "text/plain": [
       "array([1])"
      ]
     },
     "execution_count": null,
     "metadata": {},
     "output_type": "execute_result"
    }
   ],
   "source": []
  },
  {
   "cell_type": "code",
   "execution_count": null,
   "id": "510d0a2e",
   "metadata": {
    "execution": {
     "iopub.execute_input": "2024-06-05T07:54:59.970357Z",
     "iopub.status.busy": "2024-06-05T07:54:59.970258Z",
     "iopub.status.idle": "2024-06-05T07:54:59.973996Z",
     "shell.execute_reply": "2024-06-05T07:54:59.973810Z"
    },
    "papermill": {
     "duration": 0.006313,
     "end_time": "2024-06-05T07:54:59.974641",
     "exception": false,
     "start_time": "2024-06-05T07:54:59.968328",
     "status": "completed"
    },
    "tags": []
   },
   "outputs": [
    {
     "data": {
      "text/plain": [
       "array([[0.38739809, 0.61260191]])"
      ]
     },
     "execution_count": null,
     "metadata": {},
     "output_type": "execute_result"
    }
   ],
   "source": []
  },
  {
   "cell_type": "code",
   "execution_count": null,
   "id": "4ef9000c",
   "metadata": {
    "execution": {
     "iopub.execute_input": "2024-06-05T07:54:59.978232Z",
     "iopub.status.busy": "2024-06-05T07:54:59.978147Z",
     "iopub.status.idle": "2024-06-05T07:54:59.981629Z",
     "shell.execute_reply": "2024-06-05T07:54:59.981421Z"
    },
    "papermill": {
     "duration": 0.006104,
     "end_time": "2024-06-05T07:54:59.982345",
     "exception": false,
     "start_time": "2024-06-05T07:54:59.976241",
     "status": "completed"
    },
    "tags": []
   },
   "outputs": [
    {
     "data": {
      "text/plain": [
       "0.6126019064252083"
      ]
     },
     "execution_count": null,
     "metadata": {},
     "output_type": "execute_result"
    }
   ],
   "source": []
  },
  {
   "cell_type": "markdown",
   "id": "5b8fcca9",
   "metadata": {
    "papermill": {
     "duration": 0.001607,
     "end_time": "2024-06-05T07:54:59.985657",
     "exception": false,
     "start_time": "2024-06-05T07:54:59.984050",
     "status": "completed"
    },
    "tags": []
   },
   "source": [
    "## Create app\n",
    "\n",
    "1. Create a file `app.py` in the root folder\n",
    "2. Add the previous code to the file"
   ]
  }
 ],
 "metadata": {
  "kernelspec": {
   "display_name": "work",
   "language": "python",
   "name": "python3"
  },
  "language_info": {
   "codemirror_mode": {
    "name": "ipython",
    "version": 3
   },
   "file_extension": ".py",
   "mimetype": "text/x-python",
   "name": "python",
   "nbconvert_exporter": "python",
   "pygments_lexer": "ipython3",
   "version": "3.12.3"
  },
  "papermill": {
   "default_parameters": {},
   "duration": 1.563364,
   "end_time": "2024-06-05T07:55:00.203394",
   "environment_variables": {},
   "exception": null,
   "input_path": "/Users/sota/Library/CloudStorage/Dropbox/2 Business/1 Datons/2 Areas/Courses/2 Catalogue/20 ML/1 Materials/ML-P/notebooks/30_Pipeline/4_Frontend II/B.ipynb",
   "output_path": "/Users/sota/Library/CloudStorage/Dropbox/2 Business/1 Datons/2 Areas/Courses/2 Catalogue/20 ML/1 Materials/ML-P/notebooks/30_Pipeline/4_Frontend II/B.ipynb",
   "parameters": {},
   "start_time": "2024-06-05T07:54:58.640030",
   "version": "2.6.0"
  }
 },
 "nbformat": 4,
 "nbformat_minor": 5
}
