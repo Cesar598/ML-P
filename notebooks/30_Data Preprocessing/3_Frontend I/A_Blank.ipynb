{
 "cells": [
  {
   "attachments": {},
   "cell_type": "markdown",
   "id": "5134d1cc",
   "metadata": {
    "papermill": {
     "duration": 0.007302,
     "end_time": "2024-07-06T19:39:17.424073",
     "exception": false,
     "start_time": "2024-07-06T19:39:17.416771",
     "status": "completed"
    },
    "tags": []
   },
   "source": [
    "# Simulate app form prediction process"
   ]
  },
  {
   "attachments": {},
   "cell_type": "markdown",
   "id": "380ecbe3",
   "metadata": {
    "papermill": {
     "duration": 0.004892,
     "end_time": "2024-07-06T19:39:17.434415",
     "exception": false,
     "start_time": "2024-07-06T19:39:17.429523",
     "status": "completed"
    },
    "tags": []
   },
   "source": [
    "## Load pipeline artifact"
   ]
  },
  {
   "cell_type": "code",
   "execution_count": null,
   "id": "05af2f5a",
   "metadata": {
    "execution": {
     "iopub.execute_input": "2024-07-06T19:39:17.447020Z",
     "iopub.status.busy": "2024-07-06T19:39:17.446608Z",
     "iopub.status.idle": "2024-07-06T19:39:18.615224Z",
     "shell.execute_reply": "2024-07-06T19:39:18.614345Z"
    },
    "papermill": {
     "duration": 1.176829,
     "end_time": "2024-07-06T19:39:18.617249",
     "exception": false,
     "start_time": "2024-07-06T19:39:17.440420",
     "status": "completed"
    },
    "tags": []
   },
   "outputs": [],
   "source": []
  },
  {
   "cell_type": "code",
   "execution_count": null,
   "id": "631c2db9",
   "metadata": {
    "execution": {
     "iopub.execute_input": "2024-07-06T19:39:18.626360Z",
     "iopub.status.busy": "2024-07-06T19:39:18.625997Z",
     "iopub.status.idle": "2024-07-06T19:39:18.633073Z",
     "shell.execute_reply": "2024-07-06T19:39:18.632479Z"
    },
    "papermill": {
     "duration": 0.013315,
     "end_time": "2024-07-06T19:39:18.634698",
     "exception": false,
     "start_time": "2024-07-06T19:39:18.621383",
     "status": "completed"
    },
    "tags": []
   },
   "outputs": [
    {
     "data": {
      "text/plain": [
       "array(['Industry', 'Ethnicity', 'Gender', 'Age', 'CivilStatus',\n",
       "       'YearsEmployed', 'Income'], dtype=object)"
      ]
     },
     "execution_count": null,
     "metadata": {},
     "output_type": "execute_result"
    }
   ],
   "source": []
  },
  {
   "attachments": {},
   "cell_type": "markdown",
   "id": "1bc662fe",
   "metadata": {
    "papermill": {
     "duration": 0.003218,
     "end_time": "2024-07-06T19:39:18.641278",
     "exception": false,
     "start_time": "2024-07-06T19:39:18.638060",
     "status": "completed"
    },
    "tags": []
   },
   "source": [
    "## Estructure categorical data options"
   ]
  },
  {
   "cell_type": "markdown",
   "id": "dbd41fce",
   "metadata": {
    "papermill": {
     "duration": 0.006197,
     "end_time": "2024-07-06T19:39:18.671236",
     "exception": false,
     "start_time": "2024-07-06T19:39:18.665039",
     "status": "completed"
    },
    "tags": []
   },
   "source": [
    "### Feature names and categories"
   ]
  },
  {
   "cell_type": "code",
   "execution_count": null,
   "id": "36064a3f",
   "metadata": {
    "execution": {
     "iopub.execute_input": "2024-07-06T19:39:18.681401Z",
     "iopub.status.busy": "2024-07-06T19:39:18.680958Z",
     "iopub.status.idle": "2024-07-06T19:39:18.684827Z",
     "shell.execute_reply": "2024-07-06T19:39:18.684256Z"
    },
    "papermill": {
     "duration": 0.010849,
     "end_time": "2024-07-06T19:39:18.686668",
     "exception": false,
     "start_time": "2024-07-06T19:39:18.675819",
     "status": "completed"
    },
    "tags": []
   },
   "outputs": [],
   "source": []
  },
  {
   "cell_type": "code",
   "execution_count": null,
   "id": "5b7e51e2",
   "metadata": {
    "execution": {
     "iopub.execute_input": "2024-07-06T19:39:18.693972Z",
     "iopub.status.busy": "2024-07-06T19:39:18.693724Z",
     "iopub.status.idle": "2024-07-06T19:39:18.698232Z",
     "shell.execute_reply": "2024-07-06T19:39:18.697723Z"
    },
    "papermill": {
     "duration": 0.009923,
     "end_time": "2024-07-06T19:39:18.699761",
     "exception": false,
     "start_time": "2024-07-06T19:39:18.689838",
     "status": "completed"
    },
    "tags": []
   },
   "outputs": [
    {
     "data": {
      "text/plain": [
       "array(['Industry', 'Ethnicity', 'Gender', 'CivilStatus'], dtype=object)"
      ]
     },
     "execution_count": null,
     "metadata": {},
     "output_type": "execute_result"
    }
   ],
   "source": []
  },
  {
   "cell_type": "code",
   "execution_count": null,
   "id": "efca8cf1",
   "metadata": {
    "execution": {
     "iopub.execute_input": "2024-07-06T19:39:18.707569Z",
     "iopub.status.busy": "2024-07-06T19:39:18.707242Z",
     "iopub.status.idle": "2024-07-06T19:39:18.711307Z",
     "shell.execute_reply": "2024-07-06T19:39:18.710730Z"
    },
    "papermill": {
     "duration": 0.010214,
     "end_time": "2024-07-06T19:39:18.713226",
     "exception": false,
     "start_time": "2024-07-06T19:39:18.703012",
     "status": "completed"
    },
    "tags": []
   },
   "outputs": [
    {
     "data": {
      "text/plain": [
       "[array(['CommunicationServices', 'ConsumerDiscretionary',\n",
       "        'ConsumerStaples', 'Education', 'Energy', 'Financials',\n",
       "        'Healthcare', 'Industrials', 'InformationTechnology', 'Materials',\n",
       "        'Real Estate', 'Research', 'Transport', 'Utilities'], dtype=object),\n",
       " array(['Asian', 'Black', 'Latino', 'Other', 'White'], dtype=object),\n",
       " array(['Female', 'Male'], dtype=object),\n",
       " array(['Married', 'Other'], dtype=object)]"
      ]
     },
     "execution_count": null,
     "metadata": {},
     "output_type": "execute_result"
    }
   ],
   "source": []
  },
  {
   "cell_type": "code",
   "execution_count": null,
   "id": "08b47251",
   "metadata": {
    "execution": {
     "iopub.execute_input": "2024-07-06T19:39:18.723080Z",
     "iopub.status.busy": "2024-07-06T19:39:18.722806Z",
     "iopub.status.idle": "2024-07-06T19:39:18.727578Z",
     "shell.execute_reply": "2024-07-06T19:39:18.727031Z"
    },
    "papermill": {
     "duration": 0.011597,
     "end_time": "2024-07-06T19:39:18.729292",
     "exception": false,
     "start_time": "2024-07-06T19:39:18.717695",
     "status": "completed"
    },
    "tags": []
   },
   "outputs": [
    {
     "data": {
      "text/plain": [
       "{'Industry': ['CommunicationServices',\n",
       "  'ConsumerDiscretionary',\n",
       "  'ConsumerStaples',\n",
       "  'Education',\n",
       "  'Energy',\n",
       "  'Financials',\n",
       "  'Healthcare',\n",
       "  'Industrials',\n",
       "  'InformationTechnology',\n",
       "  'Materials',\n",
       "  'Real Estate',\n",
       "  'Research',\n",
       "  'Transport',\n",
       "  'Utilities'],\n",
       " 'Ethnicity': ['Asian', 'Black', 'Latino', 'Other', 'White'],\n",
       " 'Gender': ['Female', 'Male'],\n",
       " 'CivilStatus': ['Married', 'Other']}"
      ]
     },
     "execution_count": null,
     "metadata": {},
     "output_type": "execute_result"
    }
   ],
   "source": []
  },
  {
   "attachments": {},
   "cell_type": "markdown",
   "id": "c57eb46b",
   "metadata": {
    "papermill": {
     "duration": 0.00497,
     "end_time": "2024-07-06T19:39:18.738098",
     "exception": false,
     "start_time": "2024-07-06T19:39:18.733128",
     "status": "completed"
    },
    "tags": []
   },
   "source": [
    "### Export options to file"
   ]
  },
  {
   "cell_type": "code",
   "execution_count": null,
   "id": "55f891ff",
   "metadata": {
    "execution": {
     "iopub.execute_input": "2024-07-06T19:39:18.746987Z",
     "iopub.status.busy": "2024-07-06T19:39:18.746728Z",
     "iopub.status.idle": "2024-07-06T19:39:18.750989Z",
     "shell.execute_reply": "2024-07-06T19:39:18.750512Z"
    },
    "papermill": {
     "duration": 0.010347,
     "end_time": "2024-07-06T19:39:18.752514",
     "exception": false,
     "start_time": "2024-07-06T19:39:18.742167",
     "status": "completed"
    },
    "tags": []
   },
   "outputs": [],
   "source": []
  },
  {
   "cell_type": "markdown",
   "id": "5df91767",
   "metadata": {
    "papermill": {
     "duration": 0.003315,
     "end_time": "2024-07-06T19:39:18.759258",
     "exception": false,
     "start_time": "2024-07-06T19:39:18.755943",
     "status": "completed"
    },
    "tags": []
   },
   "source": [
    "## Estructure numerical data options"
   ]
  },
  {
   "cell_type": "markdown",
   "id": "d0dee132",
   "metadata": {
    "papermill": {
     "duration": 0.004039,
     "end_time": "2024-07-06T19:39:18.766631",
     "exception": false,
     "start_time": "2024-07-06T19:39:18.762592",
     "status": "completed"
    },
    "tags": []
   },
   "source": [
    "### Feature names"
   ]
  },
  {
   "cell_type": "code",
   "execution_count": null,
   "id": "1a8c03ef",
   "metadata": {
    "execution": {
     "iopub.execute_input": "2024-07-06T19:39:18.775245Z",
     "iopub.status.busy": "2024-07-06T19:39:18.774960Z",
     "iopub.status.idle": "2024-07-06T19:39:18.780274Z",
     "shell.execute_reply": "2024-07-06T19:39:18.779554Z"
    },
    "papermill": {
     "duration": 0.011925,
     "end_time": "2024-07-06T19:39:18.782018",
     "exception": false,
     "start_time": "2024-07-06T19:39:18.770093",
     "status": "completed"
    },
    "tags": []
   },
   "outputs": [
    {
     "data": {
      "text/plain": [
       "['Age', 'YearsEmployed', 'Income']"
      ]
     },
     "execution_count": null,
     "metadata": {},
     "output_type": "execute_result"
    }
   ],
   "source": []
  },
  {
   "cell_type": "markdown",
   "id": "fbb9a405",
   "metadata": {
    "papermill": {
     "duration": 0.004005,
     "end_time": "2024-07-06T19:39:18.789358",
     "exception": false,
     "start_time": "2024-07-06T19:39:18.785353",
     "status": "completed"
    },
    "tags": []
   },
   "source": [
    "### Average value by default"
   ]
  },
  {
   "cell_type": "code",
   "execution_count": null,
   "id": "39e8d7cf",
   "metadata": {
    "execution": {
     "iopub.execute_input": "2024-07-06T19:39:18.797888Z",
     "iopub.status.busy": "2024-07-06T19:39:18.797495Z",
     "iopub.status.idle": "2024-07-06T19:39:18.817124Z",
     "shell.execute_reply": "2024-07-06T19:39:18.816418Z"
    },
    "papermill": {
     "duration": 0.026226,
     "end_time": "2024-07-06T19:39:18.818902",
     "exception": false,
     "start_time": "2024-07-06T19:39:18.792676",
     "status": "completed"
    },
    "tags": []
   },
   "outputs": [
    {
     "data": {
      "text/html": [
       "<div>\n",
       "<style scoped>\n",
       "    .dataframe tbody tr th:only-of-type {\n",
       "        vertical-align: middle;\n",
       "    }\n",
       "\n",
       "    .dataframe tbody tr th {\n",
       "        vertical-align: top;\n",
       "    }\n",
       "\n",
       "    .dataframe thead th {\n",
       "        text-align: right;\n",
       "    }\n",
       "</style>\n",
       "<table border=\"1\" class=\"dataframe\">\n",
       "  <thead>\n",
       "    <tr style=\"text-align: right;\">\n",
       "      <th></th>\n",
       "      <th>Industry</th>\n",
       "      <th>Ethnicity</th>\n",
       "      <th>Gender</th>\n",
       "      <th>Age</th>\n",
       "      <th>CivilStatus</th>\n",
       "      <th>YearsEmployed</th>\n",
       "      <th>Income</th>\n",
       "      <th>Approved</th>\n",
       "    </tr>\n",
       "  </thead>\n",
       "  <tbody>\n",
       "    <tr>\n",
       "      <th>0</th>\n",
       "      <td>Industrials</td>\n",
       "      <td>White</td>\n",
       "      <td>Male</td>\n",
       "      <td>30</td>\n",
       "      <td>Married</td>\n",
       "      <td>1.25</td>\n",
       "      <td>0</td>\n",
       "      <td>1</td>\n",
       "    </tr>\n",
       "    <tr>\n",
       "      <th>1</th>\n",
       "      <td>Materials</td>\n",
       "      <td>Black</td>\n",
       "      <td>Female</td>\n",
       "      <td>58</td>\n",
       "      <td>Married</td>\n",
       "      <td>3.04</td>\n",
       "      <td>560</td>\n",
       "      <td>1</td>\n",
       "    </tr>\n",
       "    <tr>\n",
       "      <th>...</th>\n",
       "      <td>...</td>\n",
       "      <td>...</td>\n",
       "      <td>...</td>\n",
       "      <td>...</td>\n",
       "      <td>...</td>\n",
       "      <td>...</td>\n",
       "      <td>...</td>\n",
       "      <td>...</td>\n",
       "    </tr>\n",
       "    <tr>\n",
       "      <th>688</th>\n",
       "      <td>ConsumerStaples</td>\n",
       "      <td>White</td>\n",
       "      <td>Male</td>\n",
       "      <td>17</td>\n",
       "      <td>Married</td>\n",
       "      <td>0.04</td>\n",
       "      <td>750</td>\n",
       "      <td>0</td>\n",
       "    </tr>\n",
       "    <tr>\n",
       "      <th>689</th>\n",
       "      <td>Energy</td>\n",
       "      <td>Black</td>\n",
       "      <td>Male</td>\n",
       "      <td>35</td>\n",
       "      <td>Married</td>\n",
       "      <td>8.29</td>\n",
       "      <td>0</td>\n",
       "      <td>0</td>\n",
       "    </tr>\n",
       "  </tbody>\n",
       "</table>\n",
       "<p>690 rows × 8 columns</p>\n",
       "</div>"
      ],
      "text/plain": [
       "            Industry Ethnicity  Gender  Age CivilStatus  YearsEmployed  \\\n",
       "0        Industrials     White    Male   30     Married           1.25   \n",
       "1          Materials     Black  Female   58     Married           3.04   \n",
       "..               ...       ...     ...  ...         ...            ...   \n",
       "688  ConsumerStaples     White    Male   17     Married           0.04   \n",
       "689           Energy     Black    Male   35     Married           8.29   \n",
       "\n",
       "     Income  Approved  \n",
       "0         0         1  \n",
       "1       560         1  \n",
       "..      ...       ...  \n",
       "688     750         0  \n",
       "689       0         0  \n",
       "\n",
       "[690 rows x 8 columns]"
      ]
     },
     "execution_count": null,
     "metadata": {},
     "output_type": "execute_result"
    }
   ],
   "source": []
  },
  {
   "cell_type": "code",
   "execution_count": null,
   "id": "098c233b",
   "metadata": {
    "execution": {
     "iopub.execute_input": "2024-07-06T19:39:18.830165Z",
     "iopub.status.busy": "2024-07-06T19:39:18.829900Z",
     "iopub.status.idle": "2024-07-06T19:39:18.834223Z",
     "shell.execute_reply": "2024-07-06T19:39:18.833501Z"
    },
    "papermill": {
     "duration": 0.01263,
     "end_time": "2024-07-06T19:39:18.835977",
     "exception": false,
     "start_time": "2024-07-06T19:39:18.823347",
     "status": "completed"
    },
    "tags": []
   },
   "outputs": [],
   "source": []
  },
  {
   "cell_type": "markdown",
   "id": "8566b15d",
   "metadata": {
    "papermill": {
     "duration": 0.004283,
     "end_time": "2024-07-06T19:39:18.844592",
     "exception": false,
     "start_time": "2024-07-06T19:39:18.840309",
     "status": "completed"
    },
    "tags": []
   },
   "source": [
    "### Export options to file"
   ]
  },
  {
   "cell_type": "code",
   "execution_count": null,
   "id": "33c0e593",
   "metadata": {
    "execution": {
     "iopub.execute_input": "2024-07-06T19:39:18.855976Z",
     "iopub.status.busy": "2024-07-06T19:39:18.855703Z",
     "iopub.status.idle": "2024-07-06T19:39:18.860068Z",
     "shell.execute_reply": "2024-07-06T19:39:18.859485Z"
    },
    "papermill": {
     "duration": 0.011511,
     "end_time": "2024-07-06T19:39:18.861580",
     "exception": false,
     "start_time": "2024-07-06T19:39:18.850069",
     "status": "completed"
    },
    "tags": []
   },
   "outputs": [],
   "source": []
  }
 ],
 "metadata": {
  "kernelspec": {
   "display_name": "work",
   "language": "python",
   "name": "python3"
  },
  "language_info": {
   "codemirror_mode": {
    "name": "ipython",
    "version": 3
   },
   "file_extension": ".py",
   "mimetype": "text/x-python",
   "name": "python",
   "nbconvert_exporter": "python",
   "pygments_lexer": "ipython3",
   "version": "3.12.0"
  },
  "papermill": {
   "default_parameters": {},
   "duration": 2.939886,
   "end_time": "2024-07-06T19:39:19.184466",
   "environment_variables": {},
   "exception": null,
   "input_path": "/Users/sota/Dropbox/2 Business/1 Datons/2 Areas/Courses/3 Catalogue/20 ML/1 Materials/ML-P/notebooks/30_Data Preprocessing/3_Frontend I/B_Solution.ipynb",
   "output_path": "/Users/sota/Dropbox/2 Business/1 Datons/2 Areas/Courses/3 Catalogue/20 ML/1 Materials/ML-P/notebooks/30_Data Preprocessing/3_Frontend I/B_Solution.ipynb",
   "parameters": {},
   "start_time": "2024-07-06T19:39:16.244580",
   "version": "2.5.0"
  }
 },
 "nbformat": 4,
 "nbformat_minor": 5
}
