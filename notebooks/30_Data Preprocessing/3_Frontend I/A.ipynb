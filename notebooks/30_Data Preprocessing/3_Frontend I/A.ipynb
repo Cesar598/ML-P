{
 "cells": [
  {
   "attachments": {},
   "cell_type": "markdown",
   "id": "5134d1cc",
   "metadata": {
    "papermill": {
     "duration": 0.002408,
     "end_time": "2024-06-05T07:53:04.776880",
     "exception": false,
     "start_time": "2024-06-05T07:53:04.774472",
     "status": "completed"
    },
    "tags": []
   },
   "source": [
    "# Simulate app form prediction process"
   ]
  },
  {
   "attachments": {},
   "cell_type": "markdown",
   "id": "380ecbe3",
   "metadata": {
    "papermill": {
     "duration": 0.001905,
     "end_time": "2024-06-05T07:53:04.781094",
     "exception": false,
     "start_time": "2024-06-05T07:53:04.779189",
     "status": "completed"
    },
    "tags": []
   },
   "source": [
    "## Load pipeline artifact"
   ]
  },
  {
   "cell_type": "code",
   "execution_count": null,
   "id": "05af2f5a",
   "metadata": {
    "execution": {
     "iopub.execute_input": "2024-06-05T07:53:04.785059Z",
     "iopub.status.busy": "2024-06-05T07:53:04.784896Z",
     "iopub.status.idle": "2024-06-05T07:53:05.112345Z",
     "shell.execute_reply": "2024-06-05T07:53:05.112001Z"
    },
    "papermill": {
     "duration": 0.33052,
     "end_time": "2024-06-05T07:53:05.113298",
     "exception": false,
     "start_time": "2024-06-05T07:53:04.782778",
     "status": "completed"
    },
    "tags": []
   },
   "outputs": [],
   "source": []
  },
  {
   "cell_type": "code",
   "execution_count": null,
   "id": "631c2db9",
   "metadata": {
    "execution": {
     "iopub.execute_input": "2024-06-05T07:53:05.116738Z",
     "iopub.status.busy": "2024-06-05T07:53:05.116566Z",
     "iopub.status.idle": "2024-06-05T07:53:05.119675Z",
     "shell.execute_reply": "2024-06-05T07:53:05.119473Z"
    },
    "papermill": {
     "duration": 0.005607,
     "end_time": "2024-06-05T07:53:05.120428",
     "exception": false,
     "start_time": "2024-06-05T07:53:05.114821",
     "status": "completed"
    },
    "tags": []
   },
   "outputs": [
    {
     "data": {
      "text/plain": [
       "array(['Industry', 'Ethnicity', 'Gender', 'Age', 'CivilStatus',\n",
       "       'YearsEmployed', 'Income'], dtype=object)"
      ]
     },
     "execution_count": null,
     "metadata": {},
     "output_type": "execute_result"
    }
   ],
   "source": []
  },
  {
   "attachments": {},
   "cell_type": "markdown",
   "id": "1bc662fe",
   "metadata": {
    "papermill": {
     "duration": 0.001101,
     "end_time": "2024-06-05T07:53:05.122724",
     "exception": false,
     "start_time": "2024-06-05T07:53:05.121623",
     "status": "completed"
    },
    "tags": []
   },
   "source": [
    "## Estructure categorical data options"
   ]
  },
  {
   "cell_type": "markdown",
   "id": "dbd41fce",
   "metadata": {
    "papermill": {
     "duration": 0.001166,
     "end_time": "2024-06-05T07:53:05.125025",
     "exception": false,
     "start_time": "2024-06-05T07:53:05.123859",
     "status": "completed"
    },
    "tags": []
   },
   "source": [
    "### Feature names and categories"
   ]
  },
  {
   "cell_type": "code",
   "execution_count": null,
   "id": "36064a3f",
   "metadata": {
    "execution": {
     "iopub.execute_input": "2024-06-05T07:53:05.127753Z",
     "iopub.status.busy": "2024-06-05T07:53:05.127570Z",
     "iopub.status.idle": "2024-06-05T07:53:05.129389Z",
     "shell.execute_reply": "2024-06-05T07:53:05.129133Z"
    },
    "papermill": {
     "duration": 0.004026,
     "end_time": "2024-06-05T07:53:05.130147",
     "exception": false,
     "start_time": "2024-06-05T07:53:05.126121",
     "status": "completed"
    },
    "tags": []
   },
   "outputs": [],
   "source": []
  },
  {
   "cell_type": "code",
   "execution_count": null,
   "id": "5b7e51e2",
   "metadata": {
    "execution": {
     "iopub.execute_input": "2024-06-05T07:53:05.133071Z",
     "iopub.status.busy": "2024-06-05T07:53:05.132968Z",
     "iopub.status.idle": "2024-06-05T07:53:05.134922Z",
     "shell.execute_reply": "2024-06-05T07:53:05.134734Z"
    },
    "papermill": {
     "duration": 0.004352,
     "end_time": "2024-06-05T07:53:05.135649",
     "exception": false,
     "start_time": "2024-06-05T07:53:05.131297",
     "status": "completed"
    },
    "tags": []
   },
   "outputs": [
    {
     "data": {
      "text/plain": [
       "array(['Industry', 'Ethnicity', 'Gender', 'CivilStatus'], dtype=object)"
      ]
     },
     "execution_count": null,
     "metadata": {},
     "output_type": "execute_result"
    }
   ],
   "source": []
  },
  {
   "cell_type": "code",
   "execution_count": null,
   "id": "efca8cf1",
   "metadata": {
    "execution": {
     "iopub.execute_input": "2024-06-05T07:53:05.138247Z",
     "iopub.status.busy": "2024-06-05T07:53:05.138165Z",
     "iopub.status.idle": "2024-06-05T07:53:05.139997Z",
     "shell.execute_reply": "2024-06-05T07:53:05.139816Z"
    },
    "papermill": {
     "duration": 0.003914,
     "end_time": "2024-06-05T07:53:05.140652",
     "exception": false,
     "start_time": "2024-06-05T07:53:05.136738",
     "status": "completed"
    },
    "tags": []
   },
   "outputs": [
    {
     "data": {
      "text/plain": [
       "[array(['CommunicationServices', 'ConsumerDiscretionary',\n",
       "        'ConsumerStaples', 'Education', 'Energy', 'Financials',\n",
       "        'Healthcare', 'Industrials', 'InformationTechnology', 'Materials',\n",
       "        'Real Estate', 'Research', 'Transport', 'Utilities'], dtype=object),\n",
       " array(['Asian', 'Black', 'Latino', 'Other', 'White'], dtype=object),\n",
       " array(['Female', 'Male'], dtype=object),\n",
       " array(['Married', 'Other'], dtype=object)]"
      ]
     },
     "execution_count": null,
     "metadata": {},
     "output_type": "execute_result"
    }
   ],
   "source": []
  },
  {
   "cell_type": "code",
   "execution_count": null,
   "id": "08b47251",
   "metadata": {
    "execution": {
     "iopub.execute_input": "2024-06-05T07:53:05.143455Z",
     "iopub.status.busy": "2024-06-05T07:53:05.143373Z",
     "iopub.status.idle": "2024-06-05T07:53:05.145462Z",
     "shell.execute_reply": "2024-06-05T07:53:05.145234Z"
    },
    "papermill": {
     "duration": 0.004362,
     "end_time": "2024-06-05T07:53:05.146236",
     "exception": false,
     "start_time": "2024-06-05T07:53:05.141874",
     "status": "completed"
    },
    "tags": []
   },
   "outputs": [
    {
     "data": {
      "text/plain": [
       "{'Industry': ['CommunicationServices',\n",
       "  'ConsumerDiscretionary',\n",
       "  'ConsumerStaples',\n",
       "  'Education',\n",
       "  'Energy',\n",
       "  'Financials',\n",
       "  'Healthcare',\n",
       "  'Industrials',\n",
       "  'InformationTechnology',\n",
       "  'Materials',\n",
       "  'Real Estate',\n",
       "  'Research',\n",
       "  'Transport',\n",
       "  'Utilities'],\n",
       " 'Ethnicity': ['Asian', 'Black', 'Latino', 'Other', 'White'],\n",
       " 'Gender': ['Female', 'Male'],\n",
       " 'CivilStatus': ['Married', 'Other']}"
      ]
     },
     "execution_count": null,
     "metadata": {},
     "output_type": "execute_result"
    }
   ],
   "source": []
  },
  {
   "attachments": {},
   "cell_type": "markdown",
   "id": "c57eb46b",
   "metadata": {
    "papermill": {
     "duration": 0.0012,
     "end_time": "2024-06-05T07:53:05.148814",
     "exception": false,
     "start_time": "2024-06-05T07:53:05.147614",
     "status": "completed"
    },
    "tags": []
   },
   "source": [
    "### Export options to file"
   ]
  },
  {
   "cell_type": "code",
   "execution_count": null,
   "id": "55f891ff",
   "metadata": {
    "execution": {
     "iopub.execute_input": "2024-06-05T07:53:05.152382Z",
     "iopub.status.busy": "2024-06-05T07:53:05.152286Z",
     "iopub.status.idle": "2024-06-05T07:53:05.154049Z",
     "shell.execute_reply": "2024-06-05T07:53:05.153859Z"
    },
    "papermill": {
     "duration": 0.004756,
     "end_time": "2024-06-05T07:53:05.154729",
     "exception": false,
     "start_time": "2024-06-05T07:53:05.149973",
     "status": "completed"
    },
    "tags": []
   },
   "outputs": [],
   "source": []
  },
  {
   "cell_type": "markdown",
   "id": "5df91767",
   "metadata": {
    "papermill": {
     "duration": 0.001272,
     "end_time": "2024-06-05T07:53:05.157210",
     "exception": false,
     "start_time": "2024-06-05T07:53:05.155938",
     "status": "completed"
    },
    "tags": []
   },
   "source": [
    "## Estructure numerical data options"
   ]
  },
  {
   "cell_type": "markdown",
   "id": "d0dee132",
   "metadata": {
    "papermill": {
     "duration": 0.001143,
     "end_time": "2024-06-05T07:53:05.159472",
     "exception": false,
     "start_time": "2024-06-05T07:53:05.158329",
     "status": "completed"
    },
    "tags": []
   },
   "source": [
    "### Feature names"
   ]
  },
  {
   "cell_type": "code",
   "execution_count": null,
   "id": "1a8c03ef",
   "metadata": {
    "execution": {
     "iopub.execute_input": "2024-06-05T07:53:05.162579Z",
     "iopub.status.busy": "2024-06-05T07:53:05.162483Z",
     "iopub.status.idle": "2024-06-05T07:53:05.164708Z",
     "shell.execute_reply": "2024-06-05T07:53:05.164469Z"
    },
    "papermill": {
     "duration": 0.004998,
     "end_time": "2024-06-05T07:53:05.165724",
     "exception": false,
     "start_time": "2024-06-05T07:53:05.160726",
     "status": "completed"
    },
    "tags": []
   },
   "outputs": [
    {
     "data": {
      "text/plain": [
       "['Age', 'YearsEmployed', 'Income']"
      ]
     },
     "execution_count": null,
     "metadata": {},
     "output_type": "execute_result"
    }
   ],
   "source": []
  },
  {
   "cell_type": "markdown",
   "id": "fbb9a405",
   "metadata": {
    "papermill": {
     "duration": 0.001406,
     "end_time": "2024-06-05T07:53:05.168773",
     "exception": false,
     "start_time": "2024-06-05T07:53:05.167367",
     "status": "completed"
    },
    "tags": []
   },
   "source": [
    "### Average value by default"
   ]
  },
  {
   "cell_type": "code",
   "execution_count": null,
   "id": "39e8d7cf",
   "metadata": {
    "execution": {
     "iopub.execute_input": "2024-06-05T07:53:05.172324Z",
     "iopub.status.busy": "2024-06-05T07:53:05.172204Z",
     "iopub.status.idle": "2024-06-05T07:53:05.178312Z",
     "shell.execute_reply": "2024-06-05T07:53:05.178067Z"
    },
    "papermill": {
     "duration": 0.008896,
     "end_time": "2024-06-05T07:53:05.179141",
     "exception": false,
     "start_time": "2024-06-05T07:53:05.170245",
     "status": "completed"
    },
    "tags": []
   },
   "outputs": [
    {
     "data": {
      "text/html": [
       "<div>\n",
       "<style scoped>\n",
       "    .dataframe tbody tr th:only-of-type {\n",
       "        vertical-align: middle;\n",
       "    }\n",
       "\n",
       "    .dataframe tbody tr th {\n",
       "        vertical-align: top;\n",
       "    }\n",
       "\n",
       "    .dataframe thead th {\n",
       "        text-align: right;\n",
       "    }\n",
       "</style>\n",
       "<table border=\"1\" class=\"dataframe\">\n",
       "  <thead>\n",
       "    <tr style=\"text-align: right;\">\n",
       "      <th></th>\n",
       "      <th>Industry</th>\n",
       "      <th>Ethnicity</th>\n",
       "      <th>Gender</th>\n",
       "      <th>Age</th>\n",
       "      <th>CivilStatus</th>\n",
       "      <th>YearsEmployed</th>\n",
       "      <th>Income</th>\n",
       "      <th>Approved</th>\n",
       "    </tr>\n",
       "  </thead>\n",
       "  <tbody>\n",
       "    <tr>\n",
       "      <th>0</th>\n",
       "      <td>Industrials</td>\n",
       "      <td>White</td>\n",
       "      <td>Male</td>\n",
       "      <td>30</td>\n",
       "      <td>Married</td>\n",
       "      <td>1.25</td>\n",
       "      <td>0</td>\n",
       "      <td>1</td>\n",
       "    </tr>\n",
       "    <tr>\n",
       "      <th>1</th>\n",
       "      <td>Materials</td>\n",
       "      <td>Black</td>\n",
       "      <td>Female</td>\n",
       "      <td>58</td>\n",
       "      <td>Married</td>\n",
       "      <td>3.04</td>\n",
       "      <td>560</td>\n",
       "      <td>1</td>\n",
       "    </tr>\n",
       "    <tr>\n",
       "      <th>...</th>\n",
       "      <td>...</td>\n",
       "      <td>...</td>\n",
       "      <td>...</td>\n",
       "      <td>...</td>\n",
       "      <td>...</td>\n",
       "      <td>...</td>\n",
       "      <td>...</td>\n",
       "      <td>...</td>\n",
       "    </tr>\n",
       "    <tr>\n",
       "      <th>688</th>\n",
       "      <td>ConsumerStaples</td>\n",
       "      <td>White</td>\n",
       "      <td>Male</td>\n",
       "      <td>17</td>\n",
       "      <td>Married</td>\n",
       "      <td>0.04</td>\n",
       "      <td>750</td>\n",
       "      <td>0</td>\n",
       "    </tr>\n",
       "    <tr>\n",
       "      <th>689</th>\n",
       "      <td>Energy</td>\n",
       "      <td>Black</td>\n",
       "      <td>Male</td>\n",
       "      <td>35</td>\n",
       "      <td>Married</td>\n",
       "      <td>8.29</td>\n",
       "      <td>0</td>\n",
       "      <td>0</td>\n",
       "    </tr>\n",
       "  </tbody>\n",
       "</table>\n",
       "<p>690 rows × 8 columns</p>\n",
       "</div>"
      ],
      "text/plain": [
       "            Industry Ethnicity  Gender  Age CivilStatus  YearsEmployed  \\\n",
       "0        Industrials     White    Male   30     Married           1.25   \n",
       "1          Materials     Black  Female   58     Married           3.04   \n",
       "..               ...       ...     ...  ...         ...            ...   \n",
       "688  ConsumerStaples     White    Male   17     Married           0.04   \n",
       "689           Energy     Black    Male   35     Married           8.29   \n",
       "\n",
       "     Income  Approved  \n",
       "0         0         1  \n",
       "1       560         1  \n",
       "..      ...       ...  \n",
       "688     750         0  \n",
       "689       0         0  \n",
       "\n",
       "[690 rows x 8 columns]"
      ]
     },
     "execution_count": null,
     "metadata": {},
     "output_type": "execute_result"
    }
   ],
   "source": []
  },
  {
   "cell_type": "code",
   "execution_count": null,
   "id": "098c233b",
   "metadata": {
    "execution": {
     "iopub.execute_input": "2024-06-05T07:53:05.182634Z",
     "iopub.status.busy": "2024-06-05T07:53:05.182532Z",
     "iopub.status.idle": "2024-06-05T07:53:05.184395Z",
     "shell.execute_reply": "2024-06-05T07:53:05.184166Z"
    },
    "papermill": {
     "duration": 0.004269,
     "end_time": "2024-06-05T07:53:05.185103",
     "exception": false,
     "start_time": "2024-06-05T07:53:05.180834",
     "status": "completed"
    },
    "tags": []
   },
   "outputs": [],
   "source": []
  },
  {
   "cell_type": "markdown",
   "id": "8566b15d",
   "metadata": {
    "papermill": {
     "duration": 0.001558,
     "end_time": "2024-06-05T07:53:05.188390",
     "exception": false,
     "start_time": "2024-06-05T07:53:05.186832",
     "status": "completed"
    },
    "tags": []
   },
   "source": [
    "### Export options to file"
   ]
  },
  {
   "cell_type": "code",
   "execution_count": null,
   "id": "33c0e593",
   "metadata": {
    "execution": {
     "iopub.execute_input": "2024-06-05T07:53:05.191948Z",
     "iopub.status.busy": "2024-06-05T07:53:05.191826Z",
     "iopub.status.idle": "2024-06-05T07:53:05.193874Z",
     "shell.execute_reply": "2024-06-05T07:53:05.193616Z"
    },
    "papermill": {
     "duration": 0.004672,
     "end_time": "2024-06-05T07:53:05.194669",
     "exception": false,
     "start_time": "2024-06-05T07:53:05.189997",
     "status": "completed"
    },
    "tags": []
   },
   "outputs": [],
   "source": []
  }
 ],
 "metadata": {
  "kernelspec": {
   "display_name": "work",
   "language": "python",
   "name": "python3"
  },
  "language_info": {
   "codemirror_mode": {
    "name": "ipython",
    "version": 3
   },
   "file_extension": ".py",
   "mimetype": "text/x-python",
   "name": "python",
   "nbconvert_exporter": "python",
   "pygments_lexer": "ipython3",
   "version": "3.12.3"
  },
  "papermill": {
   "default_parameters": {},
   "duration": 1.418117,
   "end_time": "2024-06-05T07:53:05.413059",
   "environment_variables": {},
   "exception": null,
   "input_path": "/Users/sota/Library/CloudStorage/Dropbox/2 Business/1 Datons/2 Areas/Courses/2 Catalogue/20 ML/1 Materials/ML-P/notebooks/30_Pipeline/3_Frontend I/B.ipynb",
   "output_path": "/Users/sota/Library/CloudStorage/Dropbox/2 Business/1 Datons/2 Areas/Courses/2 Catalogue/20 ML/1 Materials/ML-P/notebooks/30_Pipeline/3_Frontend I/B.ipynb",
   "parameters": {},
   "start_time": "2024-06-05T07:53:03.994942",
   "version": "2.5.0"
  }
 },
 "nbformat": 4,
 "nbformat_minor": 5
}
