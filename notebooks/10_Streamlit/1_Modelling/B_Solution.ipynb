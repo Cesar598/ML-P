{
 "cells": [
  {
   "attachments": {},
   "cell_type": "markdown",
   "id": "29778fd4-3b3c-485f-95a9-e7750bba38b0",
   "metadata": {
    "editable": true,
    "papermill": {
     "duration": 0.006966,
     "end_time": "2024-07-06T19:32:22.061751",
     "exception": false,
     "start_time": "2024-07-06T19:32:22.054785",
     "status": "completed"
    },
    "slideshow": {
     "slide_type": ""
    },
    "tags": []
   },
   "source": [
    "# Train Machine Learning model on historical data and export it\n",
    "\n",
    "Let's say you have a house to sell, which Price should you put to it?"
   ]
  },
  {
   "cell_type": "code",
   "execution_count": 1,
   "id": "eae61cc9",
   "metadata": {
    "execution": {
     "iopub.execute_input": "2024-07-06T19:32:22.072482Z",
     "iopub.status.busy": "2024-07-06T19:32:22.071935Z",
     "iopub.status.idle": "2024-07-06T19:32:22.077617Z",
     "shell.execute_reply": "2024-07-06T19:32:22.076595Z"
    },
    "papermill": {
     "duration": 0.013479,
     "end_time": "2024-07-06T19:32:22.080796",
     "exception": false,
     "start_time": "2024-07-06T19:32:22.067317",
     "status": "completed"
    },
    "tags": [
     "change-false"
    ]
   },
   "outputs": [],
   "source": [
    "form_input = {\n",
    "    'Bedrooms': 3,\n",
    "    'Bathrooms': 2,\n",
    "    'Garage': 2,\n",
    "    'Build Year': 2000,\n",
    "    'Floor Area': 200\n",
    "}"
   ]
  },
  {
   "cell_type": "code",
   "execution_count": 2,
   "id": "9641ea9d",
   "metadata": {
    "execution": {
     "iopub.execute_input": "2024-07-06T19:32:22.091321Z",
     "iopub.status.busy": "2024-07-06T19:32:22.091012Z",
     "iopub.status.idle": "2024-07-06T19:32:22.817687Z",
     "shell.execute_reply": "2024-07-06T19:32:22.817125Z"
    },
    "papermill": {
     "duration": 0.735807,
     "end_time": "2024-07-06T19:32:22.820740",
     "exception": false,
     "start_time": "2024-07-06T19:32:22.084933",
     "status": "completed"
    },
    "tags": []
   },
   "outputs": [
    {
     "data": {
      "text/html": [
       "<div>\n",
       "<style scoped>\n",
       "    .dataframe tbody tr th:only-of-type {\n",
       "        vertical-align: middle;\n",
       "    }\n",
       "\n",
       "    .dataframe tbody tr th {\n",
       "        vertical-align: top;\n",
       "    }\n",
       "\n",
       "    .dataframe thead th {\n",
       "        text-align: right;\n",
       "    }\n",
       "</style>\n",
       "<table border=\"1\" class=\"dataframe\">\n",
       "  <thead>\n",
       "    <tr style=\"text-align: right;\">\n",
       "      <th></th>\n",
       "      <th>Bedrooms</th>\n",
       "      <th>Bathrooms</th>\n",
       "      <th>Garage</th>\n",
       "      <th>Build Year</th>\n",
       "      <th>Floor Area</th>\n",
       "    </tr>\n",
       "  </thead>\n",
       "  <tbody>\n",
       "    <tr>\n",
       "      <th>Wall Street</th>\n",
       "      <td>3</td>\n",
       "      <td>2</td>\n",
       "      <td>2</td>\n",
       "      <td>2000</td>\n",
       "      <td>200</td>\n",
       "    </tr>\n",
       "  </tbody>\n",
       "</table>\n",
       "</div>"
      ],
      "text/plain": [
       "             Bedrooms  Bathrooms  Garage  Build Year  Floor Area\n",
       "Wall Street         3          2       2        2000         200"
      ]
     },
     "execution_count": 2,
     "metadata": {},
     "output_type": "execute_result"
    }
   ],
   "source": [
    "import pandas as pd\n",
    "\n",
    "name = 'Wall Street'\n",
    "df_input = pd.DataFrame(form_input, index=[name])\n",
    "df_input"
   ]
  },
  {
   "attachments": {},
   "cell_type": "markdown",
   "id": "bba7b3ce-014f-4be4-a18f-6c771784679e",
   "metadata": {
    "editable": true,
    "papermill": {
     "duration": 0.021721,
     "end_time": "2024-07-06T19:32:22.848782",
     "exception": false,
     "start_time": "2024-07-06T19:32:22.827061",
     "status": "completed"
    },
    "slideshow": {
     "slide_type": ""
    },
    "tags": []
   },
   "source": [
    "## Historical data\n",
    "\n",
    "Having a dataset with many houses and their sold Prices, you can use Machine Learning to predict the optimal Price for your house."
   ]
  },
  {
   "cell_type": "code",
   "execution_count": 3,
   "id": "b2177ca9",
   "metadata": {
    "execution": {
     "iopub.execute_input": "2024-07-06T19:32:22.860060Z",
     "iopub.status.busy": "2024-07-06T19:32:22.859288Z",
     "iopub.status.idle": "2024-07-06T19:32:22.882743Z",
     "shell.execute_reply": "2024-07-06T19:32:22.881712Z"
    },
    "papermill": {
     "duration": 0.03143,
     "end_time": "2024-07-06T19:32:22.884724",
     "exception": false,
     "start_time": "2024-07-06T19:32:22.853294",
     "status": "completed"
    },
    "tags": [
     "change-false"
    ]
   },
   "outputs": [
    {
     "data": {
      "text/html": [
       "<div>\n",
       "<style scoped>\n",
       "    .dataframe tbody tr th:only-of-type {\n",
       "        vertical-align: middle;\n",
       "    }\n",
       "\n",
       "    .dataframe tbody tr th {\n",
       "        vertical-align: top;\n",
       "    }\n",
       "\n",
       "    .dataframe thead th {\n",
       "        text-align: right;\n",
       "    }\n",
       "</style>\n",
       "<table border=\"1\" class=\"dataframe\">\n",
       "  <thead>\n",
       "    <tr style=\"text-align: right;\">\n",
       "      <th></th>\n",
       "      <th>Price</th>\n",
       "      <th>Bedrooms</th>\n",
       "      <th>Bathrooms</th>\n",
       "      <th>Garage</th>\n",
       "      <th>Build Year</th>\n",
       "      <th>Floor Area</th>\n",
       "    </tr>\n",
       "    <tr>\n",
       "      <th>Address</th>\n",
       "      <th></th>\n",
       "      <th></th>\n",
       "      <th></th>\n",
       "      <th></th>\n",
       "      <th></th>\n",
       "      <th></th>\n",
       "    </tr>\n",
       "  </thead>\n",
       "  <tbody>\n",
       "    <tr>\n",
       "      <th>1 Datchet Turn</th>\n",
       "      <td>270000</td>\n",
       "      <td>3</td>\n",
       "      <td>2</td>\n",
       "      <td>2.0</td>\n",
       "      <td>2011.0</td>\n",
       "      <td>109</td>\n",
       "    </tr>\n",
       "    <tr>\n",
       "      <th>1 McKenzie Corner</th>\n",
       "      <td>470000</td>\n",
       "      <td>4</td>\n",
       "      <td>2</td>\n",
       "      <td>2.0</td>\n",
       "      <td>2005.0</td>\n",
       "      <td>279</td>\n",
       "    </tr>\n",
       "    <tr>\n",
       "      <th>...</th>\n",
       "      <td>...</td>\n",
       "      <td>...</td>\n",
       "      <td>...</td>\n",
       "      <td>...</td>\n",
       "      <td>...</td>\n",
       "      <td>...</td>\n",
       "    </tr>\n",
       "    <tr>\n",
       "      <th>93 Centennial Avenue</th>\n",
       "      <td>350000</td>\n",
       "      <td>4</td>\n",
       "      <td>2</td>\n",
       "      <td>2.0</td>\n",
       "      <td>2005.0</td>\n",
       "      <td>177</td>\n",
       "    </tr>\n",
       "    <tr>\n",
       "      <th>98 Centennial Avenue</th>\n",
       "      <td>441000</td>\n",
       "      <td>4</td>\n",
       "      <td>2</td>\n",
       "      <td>2.0</td>\n",
       "      <td>2004.0</td>\n",
       "      <td>195</td>\n",
       "    </tr>\n",
       "  </tbody>\n",
       "</table>\n",
       "<p>204 rows × 6 columns</p>\n",
       "</div>"
      ],
      "text/plain": [
       "                       Price  Bedrooms  Bathrooms  Garage  Build Year  \\\n",
       "Address                                                                 \n",
       "1 Datchet Turn        270000         3          2     2.0      2011.0   \n",
       "1 McKenzie Corner     470000         4          2     2.0      2005.0   \n",
       "...                      ...       ...        ...     ...         ...   \n",
       "93 Centennial Avenue  350000         4          2     2.0      2005.0   \n",
       "98 Centennial Avenue  441000         4          2     2.0      2004.0   \n",
       "\n",
       "                      Floor Area  \n",
       "Address                           \n",
       "1 Datchet Turn               109  \n",
       "1 McKenzie Corner            279  \n",
       "...                          ...  \n",
       "93 Centennial Avenue         177  \n",
       "98 Centennial Avenue         195  \n",
       "\n",
       "[204 rows x 6 columns]"
      ]
     },
     "execution_count": 3,
     "metadata": {},
     "output_type": "execute_result"
    }
   ],
   "source": [
    "import pandas as pd\n",
    "\n",
    "df_base = pd.read_csv('../../../data/house-Price.csv', index_col=0)\n",
    "df_base"
   ]
  },
  {
   "attachments": {},
   "cell_type": "markdown",
   "id": "2dadedb6",
   "metadata": {
    "papermill": {
     "duration": 0.003336,
     "end_time": "2024-07-06T19:32:22.892318",
     "exception": false,
     "start_time": "2024-07-06T19:32:22.888982",
     "status": "completed"
    },
    "tags": []
   },
   "source": [
    "## Feature selection"
   ]
  },
  {
   "cell_type": "code",
   "execution_count": 4,
   "id": "ecd9b98b",
   "metadata": {
    "execution": {
     "iopub.execute_input": "2024-07-06T19:32:22.899692Z",
     "iopub.status.busy": "2024-07-06T19:32:22.899411Z",
     "iopub.status.idle": "2024-07-06T19:32:22.904117Z",
     "shell.execute_reply": "2024-07-06T19:32:22.903554Z"
    },
    "papermill": {
     "duration": 0.010231,
     "end_time": "2024-07-06T19:32:22.905753",
     "exception": false,
     "start_time": "2024-07-06T19:32:22.895522",
     "status": "completed"
    },
    "tags": []
   },
   "outputs": [],
   "source": [
    "y = df_base['Price']\n",
    "X = df_base.drop(columns='Price')"
   ]
  },
  {
   "attachments": {},
   "cell_type": "markdown",
   "id": "a02dfd04-f2eb-4f15-a5dd-9ff50eec2419",
   "metadata": {
    "editable": true,
    "papermill": {
     "duration": 0.002998,
     "end_time": "2024-07-06T19:32:22.911567",
     "exception": false,
     "start_time": "2024-07-06T19:32:22.908569",
     "status": "completed"
    },
    "slideshow": {
     "slide_type": ""
    },
    "tags": []
   },
   "source": [
    "## Train Machine Learning model"
   ]
  },
  {
   "cell_type": "code",
   "execution_count": 5,
   "id": "5aa487d4",
   "metadata": {
    "execution": {
     "iopub.execute_input": "2024-07-06T19:32:22.918402Z",
     "iopub.status.busy": "2024-07-06T19:32:22.918154Z",
     "iopub.status.idle": "2024-07-06T19:32:24.312669Z",
     "shell.execute_reply": "2024-07-06T19:32:24.312017Z"
    },
    "papermill": {
     "duration": 1.39981,
     "end_time": "2024-07-06T19:32:24.314272",
     "exception": false,
     "start_time": "2024-07-06T19:32:22.914462",
     "status": "completed"
    },
    "tags": []
   },
   "outputs": [
    {
     "data": {
      "text/html": [
       "<style>#sk-container-id-1 {color: black;}#sk-container-id-1 pre{padding: 0;}#sk-container-id-1 div.sk-toggleable {background-color: white;}#sk-container-id-1 label.sk-toggleable__label {cursor: pointer;display: block;width: 100%;margin-bottom: 0;padding: 0.3em;box-sizing: border-box;text-align: center;}#sk-container-id-1 label.sk-toggleable__label-arrow:before {content: \"▸\";float: left;margin-right: 0.25em;color: #696969;}#sk-container-id-1 label.sk-toggleable__label-arrow:hover:before {color: black;}#sk-container-id-1 div.sk-estimator:hover label.sk-toggleable__label-arrow:before {color: black;}#sk-container-id-1 div.sk-toggleable__content {max-height: 0;max-width: 0;overflow: hidden;text-align: left;background-color: #f0f8ff;}#sk-container-id-1 div.sk-toggleable__content pre {margin: 0.2em;color: black;border-radius: 0.25em;background-color: #f0f8ff;}#sk-container-id-1 input.sk-toggleable__control:checked~div.sk-toggleable__content {max-height: 200px;max-width: 100%;overflow: auto;}#sk-container-id-1 input.sk-toggleable__control:checked~label.sk-toggleable__label-arrow:before {content: \"▾\";}#sk-container-id-1 div.sk-estimator input.sk-toggleable__control:checked~label.sk-toggleable__label {background-color: #d4ebff;}#sk-container-id-1 div.sk-label input.sk-toggleable__control:checked~label.sk-toggleable__label {background-color: #d4ebff;}#sk-container-id-1 input.sk-hidden--visually {border: 0;clip: rect(1px 1px 1px 1px);clip: rect(1px, 1px, 1px, 1px);height: 1px;margin: -1px;overflow: hidden;padding: 0;position: absolute;width: 1px;}#sk-container-id-1 div.sk-estimator {font-family: monospace;background-color: #f0f8ff;border: 1px dotted black;border-radius: 0.25em;box-sizing: border-box;margin-bottom: 0.5em;}#sk-container-id-1 div.sk-estimator:hover {background-color: #d4ebff;}#sk-container-id-1 div.sk-parallel-item::after {content: \"\";width: 100%;border-bottom: 1px solid gray;flex-grow: 1;}#sk-container-id-1 div.sk-label:hover label.sk-toggleable__label {background-color: #d4ebff;}#sk-container-id-1 div.sk-serial::before {content: \"\";position: absolute;border-left: 1px solid gray;box-sizing: border-box;top: 0;bottom: 0;left: 50%;z-index: 0;}#sk-container-id-1 div.sk-serial {display: flex;flex-direction: column;align-items: center;background-color: white;padding-right: 0.2em;padding-left: 0.2em;position: relative;}#sk-container-id-1 div.sk-item {position: relative;z-index: 1;}#sk-container-id-1 div.sk-parallel {display: flex;align-items: stretch;justify-content: center;background-color: white;position: relative;}#sk-container-id-1 div.sk-item::before, #sk-container-id-1 div.sk-parallel-item::before {content: \"\";position: absolute;border-left: 1px solid gray;box-sizing: border-box;top: 0;bottom: 0;left: 50%;z-index: -1;}#sk-container-id-1 div.sk-parallel-item {display: flex;flex-direction: column;z-index: 1;position: relative;background-color: white;}#sk-container-id-1 div.sk-parallel-item:first-child::after {align-self: flex-end;width: 50%;}#sk-container-id-1 div.sk-parallel-item:last-child::after {align-self: flex-start;width: 50%;}#sk-container-id-1 div.sk-parallel-item:only-child::after {width: 0;}#sk-container-id-1 div.sk-dashed-wrapped {border: 1px dashed gray;margin: 0 0.4em 0.5em 0.4em;box-sizing: border-box;padding-bottom: 0.4em;background-color: white;}#sk-container-id-1 div.sk-label label {font-family: monospace;font-weight: bold;display: inline-block;line-height: 1.2em;}#sk-container-id-1 div.sk-label-container {text-align: center;}#sk-container-id-1 div.sk-container {/* jupyter's `normalize.less` sets `[hidden] { display: none; }` but bootstrap.min.css set `[hidden] { display: none !important; }` so we also need the `!important` here to be able to override the default hidden behavior on the sphinx rendered scikit-learn.org. See: https://github.com/scikit-learn/scikit-learn/issues/21755 */display: inline-block !important;position: relative;}#sk-container-id-1 div.sk-text-repr-fallback {display: none;}</style><div id=\"sk-container-id-1\" class=\"sk-top-container\"><div class=\"sk-text-repr-fallback\"><pre>DecisionTreeRegressor()</pre><b>In a Jupyter environment, please rerun this cell to show the HTML representation or trust the notebook. <br />On GitHub, the HTML representation is unable to render, please try loading this page with nbviewer.org.</b></div><div class=\"sk-container\" hidden><div class=\"sk-item\"><div class=\"sk-estimator sk-toggleable\"><input class=\"sk-toggleable__control sk-hidden--visually\" id=\"sk-estimator-id-1\" type=\"checkbox\" checked><label for=\"sk-estimator-id-1\" class=\"sk-toggleable__label sk-toggleable__label-arrow\">DecisionTreeRegressor</label><div class=\"sk-toggleable__content\"><pre>DecisionTreeRegressor()</pre></div></div></div></div></div>"
      ],
      "text/plain": [
       "DecisionTreeRegressor()"
      ]
     },
     "execution_count": 5,
     "metadata": {},
     "output_type": "execute_result"
    }
   ],
   "source": [
    "from sklearn.tree import DecisionTreeRegressor\n",
    "model = DecisionTreeRegressor()\n",
    "model.fit(X, y)"
   ]
  },
  {
   "cell_type": "code",
   "execution_count": 6,
   "id": "a04ad752",
   "metadata": {
    "execution": {
     "iopub.execute_input": "2024-07-06T19:32:24.327821Z",
     "iopub.status.busy": "2024-07-06T19:32:24.324809Z",
     "iopub.status.idle": "2024-07-06T19:32:24.339838Z",
     "shell.execute_reply": "2024-07-06T19:32:24.338644Z"
    },
    "papermill": {
     "duration": 0.024084,
     "end_time": "2024-07-06T19:32:24.342488",
     "exception": false,
     "start_time": "2024-07-06T19:32:24.318404",
     "status": "completed"
    },
    "tags": []
   },
   "outputs": [
    {
     "data": {
      "text/plain": [
       "0.9746449876358452"
      ]
     },
     "execution_count": 6,
     "metadata": {},
     "output_type": "execute_result"
    }
   ],
   "source": [
    "model.score(X, y)"
   ]
  },
  {
   "attachments": {},
   "cell_type": "markdown",
   "id": "4baf80d5",
   "metadata": {
    "papermill": {
     "duration": 0.00326,
     "end_time": "2024-07-06T19:32:24.349519",
     "exception": false,
     "start_time": "2024-07-06T19:32:24.346259",
     "status": "completed"
    },
    "tags": []
   },
   "source": [
    "## Calculate prediction"
   ]
  },
  {
   "cell_type": "code",
   "execution_count": 7,
   "id": "3d569a41",
   "metadata": {
    "execution": {
     "iopub.execute_input": "2024-07-06T19:32:24.356952Z",
     "iopub.status.busy": "2024-07-06T19:32:24.356611Z",
     "iopub.status.idle": "2024-07-06T19:32:24.363519Z",
     "shell.execute_reply": "2024-07-06T19:32:24.362847Z"
    },
    "papermill": {
     "duration": 0.012932,
     "end_time": "2024-07-06T19:32:24.365698",
     "exception": false,
     "start_time": "2024-07-06T19:32:24.352766",
     "status": "completed"
    },
    "tags": []
   },
   "outputs": [
    {
     "data": {
      "text/plain": [
       "array([373000.])"
      ]
     },
     "execution_count": 7,
     "metadata": {},
     "output_type": "execute_result"
    }
   ],
   "source": [
    "model.predict(df_input)"
   ]
  },
  {
   "attachments": {},
   "cell_type": "markdown",
   "id": "617ab14d",
   "metadata": {
    "papermill": {
     "duration": 0.003155,
     "end_time": "2024-07-06T19:32:24.372459",
     "exception": false,
     "start_time": "2024-07-06T19:32:24.369304",
     "status": "completed"
    },
    "tags": []
   },
   "source": [
    "## Export model"
   ]
  },
  {
   "cell_type": "code",
   "execution_count": 8,
   "id": "d90e8ad0",
   "metadata": {
    "execution": {
     "iopub.execute_input": "2024-07-06T19:32:24.380735Z",
     "iopub.status.busy": "2024-07-06T19:32:24.380490Z",
     "iopub.status.idle": "2024-07-06T19:32:24.384777Z",
     "shell.execute_reply": "2024-07-06T19:32:24.384237Z"
    },
    "papermill": {
     "duration": 0.010726,
     "end_time": "2024-07-06T19:32:24.386320",
     "exception": false,
     "start_time": "2024-07-06T19:32:24.375594",
     "status": "completed"
    },
    "tags": []
   },
   "outputs": [],
   "source": [
    "import pickle\n",
    "\n",
    "with open('../artifacts/model.pkl', 'wb') as f:\n",
    "    pickle.dump(model, f)"
   ]
  }
 ],
 "metadata": {
  "kernelspec": {
   "display_name": "Python 3",
   "language": "python",
   "name": "python3"
  },
  "language_info": {
   "codemirror_mode": {
    "name": "ipython",
    "version": 3
   },
   "file_extension": ".py",
   "mimetype": "text/x-python",
   "name": "python",
   "nbconvert_exporter": "python",
   "pygments_lexer": "ipython3",
   "version": "3.12.0"
  },
  "papermill": {
   "default_parameters": {},
   "duration": 4.296486,
   "end_time": "2024-07-06T19:32:24.809806",
   "environment_variables": {},
   "exception": null,
   "input_path": "/Users/sota/Dropbox/2 Business/1 Datons/2 Areas/Courses/3 Catalogue/20 ML/1 Materials/ML-P/notebooks/10_Simple/1_Modelling/B_Solution.ipynb",
   "output_path": "/Users/sota/Dropbox/2 Business/1 Datons/2 Areas/Courses/3 Catalogue/20 ML/1 Materials/ML-P/notebooks/10_Simple/1_Modelling/B_Solution.ipynb",
   "parameters": {},
   "start_time": "2024-07-06T19:32:20.513320",
   "version": "2.5.0"
  }
 },
 "nbformat": 4,
 "nbformat_minor": 5
}