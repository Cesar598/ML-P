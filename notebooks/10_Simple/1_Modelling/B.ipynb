{
 "cells": [
  {
   "attachments": {},
   "cell_type": "markdown",
   "id": "29778fd4-3b3c-485f-95a9-e7750bba38b0",
   "metadata": {
    "editable": true,
    "papermill": {
     "duration": 0.002785,
     "end_time": "2024-06-05T07:45:43.630917",
     "exception": false,
     "start_time": "2024-06-05T07:45:43.628132",
     "status": "completed"
    },
    "slideshow": {
     "slide_type": ""
    },
    "tags": []
   },
   "source": [
    "# Train Machine Learning model on historical data and export it\n",
    "\n",
    "Let's say you have a house to sell, which Price should you put to it?"
   ]
  },
  {
   "cell_type": "code",
   "execution_count": 22,
   "id": "eae61cc9",
   "metadata": {
    "execution": {
     "iopub.execute_input": "2024-06-05T07:45:43.636790Z",
     "iopub.status.busy": "2024-06-05T07:45:43.636393Z",
     "iopub.status.idle": "2024-06-05T07:45:43.639995Z",
     "shell.execute_reply": "2024-06-05T07:45:43.639659Z"
    },
    "papermill": {
     "duration": 0.007599,
     "end_time": "2024-06-05T07:45:43.641026",
     "exception": false,
     "start_time": "2024-06-05T07:45:43.633427",
     "status": "completed"
    },
    "tags": [
     "change-false"
    ]
   },
   "outputs": [],
   "source": [
    "form_input = {\n",
    "    'Bedrooms': 3,\n",
    "    'Bathrooms': 2,\n",
    "    'Garage': 2,\n",
    "    'Build Year': 2000,\n",
    "    'Floor Area': 200\n",
    "}"
   ]
  },
  {
   "cell_type": "code",
   "execution_count": 29,
   "id": "9641ea9d",
   "metadata": {
    "execution": {
     "iopub.execute_input": "2024-06-05T07:45:43.645051Z",
     "iopub.status.busy": "2024-06-05T07:45:43.644800Z",
     "iopub.status.idle": "2024-06-05T07:45:43.651367Z",
     "shell.execute_reply": "2024-06-05T07:45:43.651118Z"
    },
    "papermill": {
     "duration": 0.009634,
     "end_time": "2024-06-05T07:45:43.652380",
     "exception": false,
     "start_time": "2024-06-05T07:45:43.642746",
     "status": "completed"
    },
    "tags": []
   },
   "outputs": [
    {
     "data": {
      "text/html": [
       "<div>\n",
       "<style scoped>\n",
       "    .dataframe tbody tr th:only-of-type {\n",
       "        vertical-align: middle;\n",
       "    }\n",
       "\n",
       "    .dataframe tbody tr th {\n",
       "        vertical-align: top;\n",
       "    }\n",
       "\n",
       "    .dataframe thead th {\n",
       "        text-align: right;\n",
       "    }\n",
       "</style>\n",
       "<table border=\"1\" class=\"dataframe\">\n",
       "  <thead>\n",
       "    <tr style=\"text-align: right;\">\n",
       "      <th></th>\n",
       "      <th>Bedrooms</th>\n",
       "      <th>Bathrooms</th>\n",
       "      <th>Garage</th>\n",
       "      <th>Build Year</th>\n",
       "      <th>Floor Area</th>\n",
       "    </tr>\n",
       "  </thead>\n",
       "  <tbody>\n",
       "    <tr>\n",
       "      <th>Wall Street</th>\n",
       "      <td>3</td>\n",
       "      <td>2</td>\n",
       "      <td>2</td>\n",
       "      <td>2000</td>\n",
       "      <td>200</td>\n",
       "    </tr>\n",
       "  </tbody>\n",
       "</table>\n",
       "</div>"
      ],
      "text/plain": [
       "             Bedrooms  Bathrooms  Garage  Build Year  Floor Area\n",
       "Wall Street         3          2       2        2000         200"
      ]
     },
     "execution_count": 29,
     "metadata": {},
     "output_type": "execute_result"
    }
   ],
   "source": [
    "import pandas as pd\n",
    "\n",
    "name = 'Wall Street'\n",
    "df_input = pd.DataFrame(form_input, index=[name])\n",
    "df_input"
   ]
  },
  {
   "attachments": {},
   "cell_type": "markdown",
   "id": "bba7b3ce-014f-4be4-a18f-6c771784679e",
   "metadata": {
    "editable": true,
    "papermill": {
     "duration": 0.001393,
     "end_time": "2024-06-05T07:45:43.655244",
     "exception": false,
     "start_time": "2024-06-05T07:45:43.653851",
     "status": "completed"
    },
    "slideshow": {
     "slide_type": ""
    },
    "tags": []
   },
   "source": [
    "## Historical data\n",
    "\n",
    "Having a dataset with many houses and their sold Prices, you can use Machine Learning to predict the optimal Price for your house."
   ]
  },
  {
   "cell_type": "code",
   "execution_count": 30,
   "id": "b2177ca9",
   "metadata": {
    "execution": {
     "iopub.execute_input": "2024-06-05T07:45:43.658415Z",
     "iopub.status.busy": "2024-06-05T07:45:43.658289Z",
     "iopub.status.idle": "2024-06-05T07:45:43.663935Z",
     "shell.execute_reply": "2024-06-05T07:45:43.663699Z"
    },
    "papermill": {
     "duration": 0.008306,
     "end_time": "2024-06-05T07:45:43.664833",
     "exception": false,
     "start_time": "2024-06-05T07:45:43.656527",
     "status": "completed"
    },
    "tags": [
     "change-false"
    ]
   },
   "outputs": [
    {
     "data": {
      "text/html": [
       "<div>\n",
       "<style scoped>\n",
       "    .dataframe tbody tr th:only-of-type {\n",
       "        vertical-align: middle;\n",
       "    }\n",
       "\n",
       "    .dataframe tbody tr th {\n",
       "        vertical-align: top;\n",
       "    }\n",
       "\n",
       "    .dataframe thead th {\n",
       "        text-align: right;\n",
       "    }\n",
       "</style>\n",
       "<table border=\"1\" class=\"dataframe\">\n",
       "  <thead>\n",
       "    <tr style=\"text-align: right;\">\n",
       "      <th></th>\n",
       "      <th>Price</th>\n",
       "      <th>Bedrooms</th>\n",
       "      <th>Bathrooms</th>\n",
       "      <th>Garage</th>\n",
       "      <th>Build Year</th>\n",
       "      <th>Floor Area</th>\n",
       "    </tr>\n",
       "    <tr>\n",
       "      <th>Address</th>\n",
       "      <th></th>\n",
       "      <th></th>\n",
       "      <th></th>\n",
       "      <th></th>\n",
       "      <th></th>\n",
       "      <th></th>\n",
       "    </tr>\n",
       "  </thead>\n",
       "  <tbody>\n",
       "    <tr>\n",
       "      <th>1 Datchet Turn</th>\n",
       "      <td>270000</td>\n",
       "      <td>3</td>\n",
       "      <td>2</td>\n",
       "      <td>2.0</td>\n",
       "      <td>2011.0</td>\n",
       "      <td>109</td>\n",
       "    </tr>\n",
       "    <tr>\n",
       "      <th>1 McKenzie Corner</th>\n",
       "      <td>470000</td>\n",
       "      <td>4</td>\n",
       "      <td>2</td>\n",
       "      <td>2.0</td>\n",
       "      <td>2005.0</td>\n",
       "      <td>279</td>\n",
       "    </tr>\n",
       "    <tr>\n",
       "      <th>...</th>\n",
       "      <td>...</td>\n",
       "      <td>...</td>\n",
       "      <td>...</td>\n",
       "      <td>...</td>\n",
       "      <td>...</td>\n",
       "      <td>...</td>\n",
       "    </tr>\n",
       "    <tr>\n",
       "      <th>93 Centennial Avenue</th>\n",
       "      <td>350000</td>\n",
       "      <td>4</td>\n",
       "      <td>2</td>\n",
       "      <td>2.0</td>\n",
       "      <td>2005.0</td>\n",
       "      <td>177</td>\n",
       "    </tr>\n",
       "    <tr>\n",
       "      <th>98 Centennial Avenue</th>\n",
       "      <td>441000</td>\n",
       "      <td>4</td>\n",
       "      <td>2</td>\n",
       "      <td>2.0</td>\n",
       "      <td>2004.0</td>\n",
       "      <td>195</td>\n",
       "    </tr>\n",
       "  </tbody>\n",
       "</table>\n",
       "<p>204 rows × 6 columns</p>\n",
       "</div>"
      ],
      "text/plain": [
       "                       Price  Bedrooms  Bathrooms  Garage  Build Year  \\\n",
       "Address                                                                 \n",
       "1 Datchet Turn        270000         3          2     2.0      2011.0   \n",
       "1 McKenzie Corner     470000         4          2     2.0      2005.0   \n",
       "...                      ...       ...        ...     ...         ...   \n",
       "93 Centennial Avenue  350000         4          2     2.0      2005.0   \n",
       "98 Centennial Avenue  441000         4          2     2.0      2004.0   \n",
       "\n",
       "                      Floor Area  \n",
       "Address                           \n",
       "1 Datchet Turn               109  \n",
       "1 McKenzie Corner            279  \n",
       "...                          ...  \n",
       "93 Centennial Avenue         177  \n",
       "98 Centennial Avenue         195  \n",
       "\n",
       "[204 rows x 6 columns]"
      ]
     },
     "execution_count": 30,
     "metadata": {},
     "output_type": "execute_result"
    }
   ],
   "source": [
    "import pandas as pd\n",
    "\n",
    "df_base = pd.read_csv('../../../data/house-Price.csv', index_col=0)\n",
    "df_base"
   ]
  },
  {
   "attachments": {},
   "cell_type": "markdown",
   "id": "2dadedb6",
   "metadata": {
    "papermill": {
     "duration": 0.001348,
     "end_time": "2024-06-05T07:45:43.667680",
     "exception": false,
     "start_time": "2024-06-05T07:45:43.666332",
     "status": "completed"
    },
    "tags": []
   },
   "source": [
    "## Feature selection"
   ]
  },
  {
   "cell_type": "code",
   "execution_count": 31,
   "id": "ecd9b98b",
   "metadata": {
    "execution": {
     "iopub.execute_input": "2024-06-05T07:45:43.670680Z",
     "iopub.status.busy": "2024-06-05T07:45:43.670565Z",
     "iopub.status.idle": "2024-06-05T07:45:43.672595Z",
     "shell.execute_reply": "2024-06-05T07:45:43.672380Z"
    },
    "papermill": {
     "duration": 0.004384,
     "end_time": "2024-06-05T07:45:43.673275",
     "exception": false,
     "start_time": "2024-06-05T07:45:43.668891",
     "status": "completed"
    },
    "tags": []
   },
   "outputs": [],
   "source": [
    "y = df_base['Price']\n",
    "X = df_base.drop(columns='Price')"
   ]
  },
  {
   "attachments": {},
   "cell_type": "markdown",
   "id": "a02dfd04-f2eb-4f15-a5dd-9ff50eec2419",
   "metadata": {
    "editable": true,
    "papermill": {
     "duration": 0.001237,
     "end_time": "2024-06-05T07:45:43.675826",
     "exception": false,
     "start_time": "2024-06-05T07:45:43.674589",
     "status": "completed"
    },
    "slideshow": {
     "slide_type": ""
    },
    "tags": []
   },
   "source": [
    "## Train Machine Learning model"
   ]
  },
  {
   "cell_type": "code",
   "execution_count": 32,
   "id": "5aa487d4",
   "metadata": {
    "execution": {
     "iopub.execute_input": "2024-06-05T07:45:43.678748Z",
     "iopub.status.busy": "2024-06-05T07:45:43.678645Z",
     "iopub.status.idle": "2024-06-05T07:45:43.983384Z",
     "shell.execute_reply": "2024-06-05T07:45:43.983112Z"
    },
    "papermill": {
     "duration": 0.307262,
     "end_time": "2024-06-05T07:45:43.984259",
     "exception": false,
     "start_time": "2024-06-05T07:45:43.676997",
     "status": "completed"
    },
    "tags": []
   },
   "outputs": [
    {
     "data": {
      "text/html": [
       "<style>#sk-container-id-4 {color: black;}#sk-container-id-4 pre{padding: 0;}#sk-container-id-4 div.sk-toggleable {background-color: white;}#sk-container-id-4 label.sk-toggleable__label {cursor: pointer;display: block;width: 100%;margin-bottom: 0;padding: 0.3em;box-sizing: border-box;text-align: center;}#sk-container-id-4 label.sk-toggleable__label-arrow:before {content: \"▸\";float: left;margin-right: 0.25em;color: #696969;}#sk-container-id-4 label.sk-toggleable__label-arrow:hover:before {color: black;}#sk-container-id-4 div.sk-estimator:hover label.sk-toggleable__label-arrow:before {color: black;}#sk-container-id-4 div.sk-toggleable__content {max-height: 0;max-width: 0;overflow: hidden;text-align: left;background-color: #f0f8ff;}#sk-container-id-4 div.sk-toggleable__content pre {margin: 0.2em;color: black;border-radius: 0.25em;background-color: #f0f8ff;}#sk-container-id-4 input.sk-toggleable__control:checked~div.sk-toggleable__content {max-height: 200px;max-width: 100%;overflow: auto;}#sk-container-id-4 input.sk-toggleable__control:checked~label.sk-toggleable__label-arrow:before {content: \"▾\";}#sk-container-id-4 div.sk-estimator input.sk-toggleable__control:checked~label.sk-toggleable__label {background-color: #d4ebff;}#sk-container-id-4 div.sk-label input.sk-toggleable__control:checked~label.sk-toggleable__label {background-color: #d4ebff;}#sk-container-id-4 input.sk-hidden--visually {border: 0;clip: rect(1px 1px 1px 1px);clip: rect(1px, 1px, 1px, 1px);height: 1px;margin: -1px;overflow: hidden;padding: 0;position: absolute;width: 1px;}#sk-container-id-4 div.sk-estimator {font-family: monospace;background-color: #f0f8ff;border: 1px dotted black;border-radius: 0.25em;box-sizing: border-box;margin-bottom: 0.5em;}#sk-container-id-4 div.sk-estimator:hover {background-color: #d4ebff;}#sk-container-id-4 div.sk-parallel-item::after {content: \"\";width: 100%;border-bottom: 1px solid gray;flex-grow: 1;}#sk-container-id-4 div.sk-label:hover label.sk-toggleable__label {background-color: #d4ebff;}#sk-container-id-4 div.sk-serial::before {content: \"\";position: absolute;border-left: 1px solid gray;box-sizing: border-box;top: 0;bottom: 0;left: 50%;z-index: 0;}#sk-container-id-4 div.sk-serial {display: flex;flex-direction: column;align-items: center;background-color: white;padding-right: 0.2em;padding-left: 0.2em;position: relative;}#sk-container-id-4 div.sk-item {position: relative;z-index: 1;}#sk-container-id-4 div.sk-parallel {display: flex;align-items: stretch;justify-content: center;background-color: white;position: relative;}#sk-container-id-4 div.sk-item::before, #sk-container-id-4 div.sk-parallel-item::before {content: \"\";position: absolute;border-left: 1px solid gray;box-sizing: border-box;top: 0;bottom: 0;left: 50%;z-index: -1;}#sk-container-id-4 div.sk-parallel-item {display: flex;flex-direction: column;z-index: 1;position: relative;background-color: white;}#sk-container-id-4 div.sk-parallel-item:first-child::after {align-self: flex-end;width: 50%;}#sk-container-id-4 div.sk-parallel-item:last-child::after {align-self: flex-start;width: 50%;}#sk-container-id-4 div.sk-parallel-item:only-child::after {width: 0;}#sk-container-id-4 div.sk-dashed-wrapped {border: 1px dashed gray;margin: 0 0.4em 0.5em 0.4em;box-sizing: border-box;padding-bottom: 0.4em;background-color: white;}#sk-container-id-4 div.sk-label label {font-family: monospace;font-weight: bold;display: inline-block;line-height: 1.2em;}#sk-container-id-4 div.sk-label-container {text-align: center;}#sk-container-id-4 div.sk-container {/* jupyter's `normalize.less` sets `[hidden] { display: none; }` but bootstrap.min.css set `[hidden] { display: none !important; }` so we also need the `!important` here to be able to override the default hidden behavior on the sphinx rendered scikit-learn.org. See: https://github.com/scikit-learn/scikit-learn/issues/21755 */display: inline-block !important;position: relative;}#sk-container-id-4 div.sk-text-repr-fallback {display: none;}</style><div id=\"sk-container-id-4\" class=\"sk-top-container\"><div class=\"sk-text-repr-fallback\"><pre>DecisionTreeRegressor()</pre><b>In a Jupyter environment, please rerun this cell to show the HTML representation or trust the notebook. <br />On GitHub, the HTML representation is unable to render, please try loading this page with nbviewer.org.</b></div><div class=\"sk-container\" hidden><div class=\"sk-item\"><div class=\"sk-estimator sk-toggleable\"><input class=\"sk-toggleable__control sk-hidden--visually\" id=\"sk-estimator-id-4\" type=\"checkbox\" checked><label for=\"sk-estimator-id-4\" class=\"sk-toggleable__label sk-toggleable__label-arrow\">DecisionTreeRegressor</label><div class=\"sk-toggleable__content\"><pre>DecisionTreeRegressor()</pre></div></div></div></div></div>"
      ],
      "text/plain": [
       "DecisionTreeRegressor()"
      ]
     },
     "execution_count": 32,
     "metadata": {},
     "output_type": "execute_result"
    }
   ],
   "source": [
    "from sklearn.tree import DecisionTreeRegressor\n",
    "model = DecisionTreeRegressor()\n",
    "model.fit(X, y)"
   ]
  },
  {
   "cell_type": "code",
   "execution_count": 33,
   "id": "a04ad752",
   "metadata": {
    "execution": {
     "iopub.execute_input": "2024-06-05T07:45:43.989206Z",
     "iopub.status.busy": "2024-06-05T07:45:43.988948Z",
     "iopub.status.idle": "2024-06-05T07:45:43.992428Z",
     "shell.execute_reply": "2024-06-05T07:45:43.992163Z"
    },
    "papermill": {
     "duration": 0.006723,
     "end_time": "2024-06-05T07:45:43.993438",
     "exception": false,
     "start_time": "2024-06-05T07:45:43.986715",
     "status": "completed"
    },
    "tags": []
   },
   "outputs": [
    {
     "data": {
      "text/plain": [
       "0.9746449876358452"
      ]
     },
     "execution_count": 33,
     "metadata": {},
     "output_type": "execute_result"
    }
   ],
   "source": [
    "model.score(X, y)"
   ]
  },
  {
   "attachments": {},
   "cell_type": "markdown",
   "id": "4baf80d5",
   "metadata": {
    "papermill": {
     "duration": 0.001494,
     "end_time": "2024-06-05T07:45:43.996511",
     "exception": false,
     "start_time": "2024-06-05T07:45:43.995017",
     "status": "completed"
    },
    "tags": []
   },
   "source": [
    "## Calculate prediction"
   ]
  },
  {
   "cell_type": "code",
   "execution_count": 34,
   "id": "3d569a41",
   "metadata": {
    "execution": {
     "iopub.execute_input": "2024-06-05T07:45:44.008064Z",
     "iopub.status.busy": "2024-06-05T07:45:44.007946Z",
     "iopub.status.idle": "2024-06-05T07:45:44.010498Z",
     "shell.execute_reply": "2024-06-05T07:45:44.010271Z"
    },
    "papermill": {
     "duration": 0.005338,
     "end_time": "2024-06-05T07:45:44.011270",
     "exception": false,
     "start_time": "2024-06-05T07:45:44.005932",
     "status": "completed"
    },
    "tags": []
   },
   "outputs": [
    {
     "data": {
      "text/plain": [
       "array([373000.])"
      ]
     },
     "execution_count": 34,
     "metadata": {},
     "output_type": "execute_result"
    }
   ],
   "source": [
    "model.predict(df_input)"
   ]
  },
  {
   "attachments": {},
   "cell_type": "markdown",
   "id": "617ab14d",
   "metadata": {
    "papermill": {
     "duration": 0.00156,
     "end_time": "2024-06-05T07:45:44.014450",
     "exception": false,
     "start_time": "2024-06-05T07:45:44.012890",
     "status": "completed"
    },
    "tags": []
   },
   "source": [
    "## Export model"
   ]
  },
  {
   "cell_type": "code",
   "execution_count": 35,
   "id": "d90e8ad0",
   "metadata": {
    "execution": {
     "iopub.execute_input": "2024-06-05T07:45:44.018457Z",
     "iopub.status.busy": "2024-06-05T07:45:44.018321Z",
     "iopub.status.idle": "2024-06-05T07:45:44.020327Z",
     "shell.execute_reply": "2024-06-05T07:45:44.020118Z"
    },
    "papermill": {
     "duration": 0.004747,
     "end_time": "2024-06-05T07:45:44.021042",
     "exception": false,
     "start_time": "2024-06-05T07:45:44.016295",
     "status": "completed"
    },
    "tags": []
   },
   "outputs": [],
   "source": [
    "import pickle\n",
    "\n",
    "with open('../artifacts/model.pkl', 'wb') as f:\n",
    "    pickle.dump(model, f)"
   ]
  }
 ],
 "metadata": {
  "kernelspec": {
   "display_name": "Python 3",
   "language": "python",
   "name": "python3"
  },
  "language_info": {
   "codemirror_mode": {
    "name": "ipython",
    "version": 3
   },
   "file_extension": ".py",
   "mimetype": "text/x-python",
   "name": "python",
   "nbconvert_exporter": "python",
   "pygments_lexer": "ipython3",
   "version": "3.10.12"
  },
  "papermill": {
   "default_parameters": {},
   "duration": 1.436603,
   "end_time": "2024-06-05T07:45:44.238002",
   "environment_variables": {},
   "exception": null,
   "input_path": "/Users/sota/Library/CloudStorage/Dropbox/2 Business/1 Datons/2 Areas/Courses/2 Catalogue/20 ML/1 Materials/ML-P/notebooks/10_Streamlit/1_Modelling/B.ipynb",
   "output_path": "/Users/sota/Library/CloudStorage/Dropbox/2 Business/1 Datons/2 Areas/Courses/2 Catalogue/20 ML/1 Materials/ML-P/notebooks/10_Streamlit/1_Modelling/B.ipynb",
   "parameters": {},
   "start_time": "2024-06-05T07:45:42.801399",
   "version": "2.5.0"
  }
 },
 "nbformat": 4,
 "nbformat_minor": 5
}
