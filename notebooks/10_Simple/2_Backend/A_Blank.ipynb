{
 "cells": [
  {
   "attachments": {},
   "cell_type": "markdown",
   "id": "160dc7ba",
   "metadata": {
    "papermill": {
     "duration": 0.00559,
     "end_time": "2024-07-06T19:32:28.716628",
     "exception": false,
     "start_time": "2024-07-06T19:32:28.711038",
     "status": "completed"
    },
    "tags": []
   },
   "source": [
    "# Load pre-trained ML model to make predictions on new data"
   ]
  },
  {
   "attachments": {},
   "cell_type": "markdown",
   "id": "ecfb399d",
   "metadata": {
    "papermill": {
     "duration": 0.003351,
     "end_time": "2024-07-06T19:32:28.725039",
     "exception": false,
     "start_time": "2024-07-06T19:32:28.721688",
     "status": "completed"
    },
    "tags": []
   },
   "source": [
    "## Form data"
   ]
  },
  {
   "cell_type": "code",
   "execution_count": null,
   "id": "22545c44",
   "metadata": {
    "execution": {
     "iopub.execute_input": "2024-07-06T19:32:28.734166Z",
     "iopub.status.busy": "2024-07-06T19:32:28.733465Z",
     "iopub.status.idle": "2024-07-06T19:32:28.742476Z",
     "shell.execute_reply": "2024-07-06T19:32:28.740825Z"
    },
    "papermill": {
     "duration": 0.018947,
     "end_time": "2024-07-06T19:32:28.746875",
     "exception": false,
     "start_time": "2024-07-06T19:32:28.727928",
     "status": "completed"
    },
    "tags": []
   },
   "outputs": [],
   "source": []
  },
  {
   "cell_type": "code",
   "execution_count": null,
   "id": "6ea1b852",
   "metadata": {
    "execution": {
     "iopub.execute_input": "2024-07-06T19:32:28.757282Z",
     "iopub.status.busy": "2024-07-06T19:32:28.756681Z",
     "iopub.status.idle": "2024-07-06T19:32:29.238166Z",
     "shell.execute_reply": "2024-07-06T19:32:29.236429Z"
    },
    "papermill": {
     "duration": 0.48924,
     "end_time": "2024-07-06T19:32:29.241184",
     "exception": false,
     "start_time": "2024-07-06T19:32:28.751944",
     "status": "completed"
    },
    "tags": []
   },
   "outputs": [
    {
     "data": {
      "text/html": [
       "<div>\n",
       "<style scoped>\n",
       "    .dataframe tbody tr th:only-of-type {\n",
       "        vertical-align: middle;\n",
       "    }\n",
       "\n",
       "    .dataframe tbody tr th {\n",
       "        vertical-align: top;\n",
       "    }\n",
       "\n",
       "    .dataframe thead th {\n",
       "        text-align: right;\n",
       "    }\n",
       "</style>\n",
       "<table border=\"1\" class=\"dataframe\">\n",
       "  <thead>\n",
       "    <tr style=\"text-align: right;\">\n",
       "      <th></th>\n",
       "      <th>Bedrooms</th>\n",
       "      <th>Bathrooms</th>\n",
       "      <th>Garage</th>\n",
       "      <th>Build Year</th>\n",
       "      <th>Floor Area</th>\n",
       "    </tr>\n",
       "  </thead>\n",
       "  <tbody>\n",
       "    <tr>\n",
       "      <th>Wall Street</th>\n",
       "      <td>3</td>\n",
       "      <td>2</td>\n",
       "      <td>2</td>\n",
       "      <td>2000</td>\n",
       "      <td>200</td>\n",
       "    </tr>\n",
       "  </tbody>\n",
       "</table>\n",
       "</div>"
      ],
      "text/plain": [
       "             Bedrooms  Bathrooms  Garage  Build Year  Floor Area\n",
       "Wall Street         3          2       2        2000         200"
      ]
     },
     "execution_count": null,
     "metadata": {},
     "output_type": "execute_result"
    }
   ],
   "source": []
  },
  {
   "attachments": {},
   "cell_type": "markdown",
   "id": "04b58b8a",
   "metadata": {
    "papermill": {
     "duration": 0.004437,
     "end_time": "2024-07-06T19:32:29.249333",
     "exception": false,
     "start_time": "2024-07-06T19:32:29.244896",
     "status": "completed"
    },
    "tags": []
   },
   "source": [
    "## Load pre-trained model"
   ]
  },
  {
   "cell_type": "code",
   "execution_count": null,
   "id": "815612fb",
   "metadata": {
    "execution": {
     "iopub.execute_input": "2024-07-06T19:32:29.256503Z",
     "iopub.status.busy": "2024-07-06T19:32:29.256122Z",
     "iopub.status.idle": "2024-07-06T19:32:30.009305Z",
     "shell.execute_reply": "2024-07-06T19:32:30.008590Z"
    },
    "papermill": {
     "duration": 0.759309,
     "end_time": "2024-07-06T19:32:30.011109",
     "exception": false,
     "start_time": "2024-07-06T19:32:29.251800",
     "status": "completed"
    },
    "tags": []
   },
   "outputs": [],
   "source": []
  },
  {
   "attachments": {},
   "cell_type": "markdown",
   "id": "05469580",
   "metadata": {
    "papermill": {
     "duration": 0.003387,
     "end_time": "2024-07-06T19:32:30.018159",
     "exception": false,
     "start_time": "2024-07-06T19:32:30.014772",
     "status": "completed"
    },
    "tags": []
   },
   "source": [
    "## Calculate prediction"
   ]
  },
  {
   "cell_type": "code",
   "execution_count": null,
   "id": "9203f855",
   "metadata": {
    "execution": {
     "iopub.execute_input": "2024-07-06T19:32:30.026290Z",
     "iopub.status.busy": "2024-07-06T19:32:30.025892Z",
     "iopub.status.idle": "2024-07-06T19:32:30.034850Z",
     "shell.execute_reply": "2024-07-06T19:32:30.034028Z"
    },
    "papermill": {
     "duration": 0.014995,
     "end_time": "2024-07-06T19:32:30.036649",
     "exception": false,
     "start_time": "2024-07-06T19:32:30.021654",
     "status": "completed"
    },
    "tags": []
   },
   "outputs": [
    {
     "data": {
      "text/plain": [
       "array([373000.])"
      ]
     },
     "execution_count": null,
     "metadata": {},
     "output_type": "execute_result"
    }
   ],
   "source": []
  },
  {
   "attachments": {},
   "cell_type": "markdown",
   "id": "4e6f7da8",
   "metadata": {
    "papermill": {
     "duration": 0.002076,
     "end_time": "2024-07-06T19:32:30.040808",
     "exception": false,
     "start_time": "2024-07-06T19:32:30.038732",
     "status": "completed"
    },
    "tags": []
   },
   "source": [
    "## Create app\n",
    "\n",
    "1. Create a file `app.py`\n",
    "2. Add the previous code"
   ]
  }
 ],
 "metadata": {
  "kernelspec": {
   "display_name": "Python 3",
   "language": "python",
   "name": "python3"
  },
  "language_info": {
   "codemirror_mode": {
    "name": "ipython",
    "version": 3
   },
   "file_extension": ".py",
   "mimetype": "text/x-python",
   "name": "python",
   "nbconvert_exporter": "python",
   "pygments_lexer": "ipython3",
   "version": "3.12.0"
  },
  "papermill": {
   "default_parameters": {},
   "duration": 2.63443,
   "end_time": "2024-07-06T19:32:30.360240",
   "environment_variables": {},
   "exception": null,
   "input_path": "/Users/sota/Dropbox/2 Business/1 Datons/2 Areas/Courses/3 Catalogue/20 ML/1 Materials/ML-P/notebooks/10_Simple/2_Backend/B_Solution.ipynb",
   "output_path": "/Users/sota/Dropbox/2 Business/1 Datons/2 Areas/Courses/3 Catalogue/20 ML/1 Materials/ML-P/notebooks/10_Simple/2_Backend/B_Solution.ipynb",
   "parameters": {},
   "start_time": "2024-07-06T19:32:27.725810",
   "version": "2.6.0"
  }
 },
 "nbformat": 4,
 "nbformat_minor": 5
}
