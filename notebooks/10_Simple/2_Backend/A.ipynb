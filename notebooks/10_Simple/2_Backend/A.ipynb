{
 "cells": [
  {
   "cell_type": "markdown",
   "id": "160dc7ba",
   "metadata": {
    "papermill": {
     "duration": 0.001263,
     "end_time": "2024-06-05T07:45:45.020921",
     "exception": false,
     "start_time": "2024-06-05T07:45:45.019658",
     "status": "completed"
    },
    "tags": []
   },
   "source": [
    "# Load pre-trained ML model to make predictions on new data"
   ]
  },
  {
   "cell_type": "markdown",
   "id": "ecfb399d",
   "metadata": {
    "papermill": {
     "duration": 0.001159,
     "end_time": "2024-06-05T07:45:45.023276",
     "exception": false,
     "start_time": "2024-06-05T07:45:45.022117",
     "status": "completed"
    },
    "tags": []
   },
   "source": [
    "## Form data"
   ]
  },
  {
   "cell_type": "code",
   "execution_count": null,
   "id": "22545c44",
   "metadata": {
    "execution": {
     "iopub.execute_input": "2024-06-05T07:45:45.025691Z",
     "iopub.status.busy": "2024-06-05T07:45:45.025547Z",
     "iopub.status.idle": "2024-06-05T07:45:45.028145Z",
     "shell.execute_reply": "2024-06-05T07:45:45.027865Z"
    },
    "papermill": {
     "duration": 0.004686,
     "end_time": "2024-06-05T07:45:45.028974",
     "exception": false,
     "start_time": "2024-06-05T07:45:45.024288",
     "status": "completed"
    },
    "tags": []
   },
   "outputs": [],
   "source": []
  },
  {
   "cell_type": "code",
   "execution_count": null,
   "id": "6ea1b852",
   "metadata": {
    "execution": {
     "iopub.execute_input": "2024-06-05T07:45:45.031123Z",
     "iopub.status.busy": "2024-06-05T07:45:45.031020Z",
     "iopub.status.idle": "2024-06-05T07:45:45.035960Z",
     "shell.execute_reply": "2024-06-05T07:45:45.035758Z"
    },
    "papermill": {
     "duration": 0.006806,
     "end_time": "2024-06-05T07:45:45.036628",
     "exception": false,
     "start_time": "2024-06-05T07:45:45.029822",
     "status": "completed"
    },
    "tags": []
   },
   "outputs": [
    {
     "data": {
      "text/html": [
       "<div>\n",
       "<style scoped>\n",
       "    .dataframe tbody tr th:only-of-type {\n",
       "        vertical-align: middle;\n",
       "    }\n",
       "\n",
       "    .dataframe tbody tr th {\n",
       "        vertical-align: top;\n",
       "    }\n",
       "\n",
       "    .dataframe thead th {\n",
       "        text-align: right;\n",
       "    }\n",
       "</style>\n",
       "<table border=\"1\" class=\"dataframe\">\n",
       "  <thead>\n",
       "    <tr style=\"text-align: right;\">\n",
       "      <th></th>\n",
       "      <th>Bedrooms</th>\n",
       "      <th>Bathrooms</th>\n",
       "      <th>Garage</th>\n",
       "      <th>Floor Area</th>\n",
       "      <th>Build Year</th>\n",
       "    </tr>\n",
       "  </thead>\n",
       "  <tbody>\n",
       "    <tr>\n",
       "      <th>Wall Street</th>\n",
       "      <td>3</td>\n",
       "      <td>2</td>\n",
       "      <td>2</td>\n",
       "      <td>200</td>\n",
       "      <td>2000</td>\n",
       "    </tr>\n",
       "  </tbody>\n",
       "</table>\n",
       "</div>"
      ],
      "text/plain": [
       "             Bedrooms  Bathrooms  Garage  Floor Area  Build Year\n",
       "Wall Street         3          2       2         200        2000"
      ]
     },
     "execution_count": null,
     "metadata": {},
     "output_type": "execute_result"
    }
   ],
   "source": []
  },
  {
   "cell_type": "markdown",
   "id": "04b58b8a",
   "metadata": {
    "papermill": {
     "duration": 0.000686,
     "end_time": "2024-06-05T07:45:45.038022",
     "exception": false,
     "start_time": "2024-06-05T07:45:45.037336",
     "status": "completed"
    },
    "tags": []
   },
   "source": [
    "## Load pre-trained model"
   ]
  },
  {
   "cell_type": "code",
   "execution_count": null,
   "id": "815612fb",
   "metadata": {
    "execution": {
     "iopub.execute_input": "2024-06-05T07:45:45.039809Z",
     "iopub.status.busy": "2024-06-05T07:45:45.039706Z",
     "iopub.status.idle": "2024-06-05T07:45:45.340694Z",
     "shell.execute_reply": "2024-06-05T07:45:45.340317Z"
    },
    "papermill": {
     "duration": 0.3029,
     "end_time": "2024-06-05T07:45:45.341600",
     "exception": false,
     "start_time": "2024-06-05T07:45:45.038700",
     "status": "completed"
    },
    "tags": []
   },
   "outputs": [],
   "source": []
  },
  {
   "cell_type": "markdown",
   "id": "05469580",
   "metadata": {
    "papermill": {
     "duration": 0.000968,
     "end_time": "2024-06-05T07:45:45.343697",
     "exception": false,
     "start_time": "2024-06-05T07:45:45.342729",
     "status": "completed"
    },
    "tags": []
   },
   "source": [
    "## Calculate prediction"
   ]
  },
  {
   "cell_type": "code",
   "execution_count": null,
   "id": "9203f855",
   "metadata": {
    "execution": {
     "iopub.execute_input": "2024-06-05T07:45:45.345911Z",
     "iopub.status.busy": "2024-06-05T07:45:45.345777Z",
     "iopub.status.idle": "2024-06-05T07:45:45.348557Z",
     "shell.execute_reply": "2024-06-05T07:45:45.348331Z"
    },
    "papermill": {
     "duration": 0.004796,
     "end_time": "2024-06-05T07:45:45.349338",
     "exception": false,
     "start_time": "2024-06-05T07:45:45.344542",
     "status": "completed"
    },
    "tags": []
   },
   "outputs": [
    {
     "data": {
      "text/plain": [
       "array([373000.])"
      ]
     },
     "execution_count": null,
     "metadata": {},
     "output_type": "execute_result"
    }
   ],
   "source": []
  },
  {
   "cell_type": "markdown",
   "id": "4e6f7da8",
   "metadata": {
    "papermill": {
     "duration": 0.000733,
     "end_time": "2024-06-05T07:45:45.350859",
     "exception": false,
     "start_time": "2024-06-05T07:45:45.350126",
     "status": "completed"
    },
    "tags": []
   },
   "source": [
    "## Create app\n",
    "\n",
    "1. Create a file `app.py`\n",
    "2. Add the previous code"
   ]
  }
 ],
 "metadata": {
  "kernelspec": {
   "display_name": "Python 3",
   "language": "python",
   "name": "python3"
  },
  "language_info": {
   "codemirror_mode": {
    "name": "ipython",
    "version": 3
   },
   "file_extension": ".py",
   "mimetype": "text/x-python",
   "name": "python",
   "nbconvert_exporter": "python",
   "pygments_lexer": "ipython3",
   "version": "3.12.3"
  },
  "papermill": {
   "default_parameters": {},
   "duration": 1.307707,
   "end_time": "2024-06-05T07:45:45.567892",
   "environment_variables": {},
   "exception": null,
   "input_path": "/Users/sota/Library/CloudStorage/Dropbox/2 Business/1 Datons/2 Areas/Courses/2 Catalogue/20 ML/1 Materials/ML-P/notebooks/10_Streamlit/2_Backend/B.ipynb",
   "output_path": "/Users/sota/Library/CloudStorage/Dropbox/2 Business/1 Datons/2 Areas/Courses/2 Catalogue/20 ML/1 Materials/ML-P/notebooks/10_Streamlit/2_Backend/B.ipynb",
   "parameters": {},
   "start_time": "2024-06-05T07:45:44.260185",
   "version": "2.6.0"
  }
 },
 "nbformat": 4,
 "nbformat_minor": 5
}
